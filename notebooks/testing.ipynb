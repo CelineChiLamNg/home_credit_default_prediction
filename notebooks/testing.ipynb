{
 "cells": [
  {
   "metadata": {
    "ExecuteTime": {
     "end_time": "2024-12-15T15:29:08.076548Z",
     "start_time": "2024-12-15T15:29:07.736831Z"
    }
   },
   "cell_type": "code",
   "source": [
    "%%capture\n",
    "%pip install -r requirements.txt"
   ],
   "id": "4202fa43437c8a93",
   "outputs": [],
   "execution_count": 1
  },
  {
   "metadata": {
    "ExecuteTime": {
     "end_time": "2024-12-15T15:29:08.132167Z",
     "start_time": "2024-12-15T15:29:08.080479Z"
    }
   },
   "cell_type": "code",
   "source": [
    "import numpy as np\n",
    "import pandas as pd\n",
    "import matplotlib.pyplot as plt\n",
    "import seaborn as sns\n",
    "import pickle as pkl\n",
    "import os\n",
    "\n",
    "from utils.eda import *\n",
    "\n",
    "from sklearn.compose import make_column_selector as selector"
   ],
   "id": "207586bb253a1d42",
   "outputs": [],
   "execution_count": 2
  },
  {
   "cell_type": "code",
   "id": "initial_id",
   "metadata": {
    "collapsed": true,
    "ExecuteTime": {
     "end_time": "2024-12-15T15:29:08.508878Z",
     "start_time": "2024-12-15T15:29:08.189272Z"
    }
   },
   "source": [
    "project_root = os.path.abspath(os.path.join(os.getcwd(), \"..\"))\n",
    "folder = os.path.join(project_root, \"data_train_test_split\")\n",
    "folder_2 = os.path.join(folder, \"train_split\")\n",
    "previous_application_train_path = os.path.join(folder_2, \"previous_application_train.pkl\")\n",
    "previous_application_train = pd.read_pickle(previous_application_train_path)"
   ],
   "outputs": [],
   "execution_count": 3
  },
  {
   "metadata": {
    "ExecuteTime": {
     "end_time": "2024-12-15T15:36:27.999143Z",
     "start_time": "2024-12-15T15:29:08.529156Z"
    }
   },
   "cell_type": "code",
   "source": [
    "categorical_columns_selector = selector(dtype_exclude='number')\n",
    "numerical_columns_selector = selector(dtype_include='number')\n",
    "data_categorical_columns = categorical_columns_selector(previous_application_train)\n",
    "data_numerical_columns = numerical_columns_selector(previous_application_train)\n",
    "\n",
    "fig, axes = plt.subplots(nrows=11, ncols=2,\n",
    "                         figsize=(10, 20))\n",
    "fig.subplots_adjust(hspace=0.3, wspace=0.4, top=0.97)\n",
    "\n",
    "axes_flatten = axes.flatten()\n",
    "\n",
    "for i, col in enumerate(data_numerical_columns):\n",
    "    sns.histplot(x=col, data=previous_application_train,\n",
    "                 ax=axes_flatten[i])\n",
    "    sns.despine(top=True, right=True, left=False, bottom=False)\n",
    "\n",
    "for j in range(len(data_numerical_columns), len(axes_flatten)):\n",
    "    axes_flatten[j].axis('off')\n",
    "\n",
    "fig.suptitle('Previous Application - Numerical', fontsize=15)\n",
    "plt.show()"
   ],
   "id": "256de0588b5df41b",
   "outputs": [
    {
     "ename": "KeyboardInterrupt",
     "evalue": "",
     "output_type": "error",
     "traceback": [
      "\u001B[0;31m---------------------------------------------------------------------------\u001B[0m",
      "\u001B[0;31mKeyboardInterrupt\u001B[0m                         Traceback (most recent call last)",
      "Cell \u001B[0;32mIn[4], line 13\u001B[0m\n\u001B[1;32m     10\u001B[0m axes_flatten \u001B[38;5;241m=\u001B[39m axes\u001B[38;5;241m.\u001B[39mflatten()\n\u001B[1;32m     12\u001B[0m \u001B[38;5;28;01mfor\u001B[39;00m i, col \u001B[38;5;129;01min\u001B[39;00m \u001B[38;5;28menumerate\u001B[39m(data_numerical_columns):\n\u001B[0;32m---> 13\u001B[0m     \u001B[43msns\u001B[49m\u001B[38;5;241;43m.\u001B[39;49m\u001B[43mhistplot\u001B[49m\u001B[43m(\u001B[49m\u001B[43mx\u001B[49m\u001B[38;5;241;43m=\u001B[39;49m\u001B[43mcol\u001B[49m\u001B[43m,\u001B[49m\u001B[43m \u001B[49m\u001B[43mdata\u001B[49m\u001B[38;5;241;43m=\u001B[39;49m\u001B[43mprevious_application_train\u001B[49m\u001B[43m,\u001B[49m\n\u001B[1;32m     14\u001B[0m \u001B[43m                 \u001B[49m\u001B[43max\u001B[49m\u001B[38;5;241;43m=\u001B[39;49m\u001B[43maxes_flatten\u001B[49m\u001B[43m[\u001B[49m\u001B[43mi\u001B[49m\u001B[43m]\u001B[49m\u001B[43m)\u001B[49m\n\u001B[1;32m     15\u001B[0m     sns\u001B[38;5;241m.\u001B[39mdespine(top\u001B[38;5;241m=\u001B[39m\u001B[38;5;28;01mTrue\u001B[39;00m, right\u001B[38;5;241m=\u001B[39m\u001B[38;5;28;01mTrue\u001B[39;00m, left\u001B[38;5;241m=\u001B[39m\u001B[38;5;28;01mFalse\u001B[39;00m, bottom\u001B[38;5;241m=\u001B[39m\u001B[38;5;28;01mFalse\u001B[39;00m)\n\u001B[1;32m     17\u001B[0m \u001B[38;5;28;01mfor\u001B[39;00m j \u001B[38;5;129;01min\u001B[39;00m \u001B[38;5;28mrange\u001B[39m(\u001B[38;5;28mlen\u001B[39m(data_numerical_columns), \u001B[38;5;28mlen\u001B[39m(axes_flatten)):\n",
      "File \u001B[0;32m~/PycharmProjects/chilng-DS.v2.5.3.4.1/.venv/lib/python3.12/site-packages/seaborn/distributions.py:1416\u001B[0m, in \u001B[0;36mhistplot\u001B[0;34m(data, x, y, hue, weights, stat, bins, binwidth, binrange, discrete, cumulative, common_bins, common_norm, multiple, element, fill, shrink, kde, kde_kws, line_kws, thresh, pthresh, pmax, cbar, cbar_ax, cbar_kws, palette, hue_order, hue_norm, color, log_scale, legend, ax, **kwargs)\u001B[0m\n\u001B[1;32m   1405\u001B[0m estimate_kws \u001B[38;5;241m=\u001B[39m \u001B[38;5;28mdict\u001B[39m(\n\u001B[1;32m   1406\u001B[0m     stat\u001B[38;5;241m=\u001B[39mstat,\n\u001B[1;32m   1407\u001B[0m     bins\u001B[38;5;241m=\u001B[39mbins,\n\u001B[0;32m   (...)\u001B[0m\n\u001B[1;32m   1411\u001B[0m     cumulative\u001B[38;5;241m=\u001B[39mcumulative,\n\u001B[1;32m   1412\u001B[0m )\n\u001B[1;32m   1414\u001B[0m \u001B[38;5;28;01mif\u001B[39;00m p\u001B[38;5;241m.\u001B[39munivariate:\n\u001B[0;32m-> 1416\u001B[0m     \u001B[43mp\u001B[49m\u001B[38;5;241;43m.\u001B[39;49m\u001B[43mplot_univariate_histogram\u001B[49m\u001B[43m(\u001B[49m\n\u001B[1;32m   1417\u001B[0m \u001B[43m        \u001B[49m\u001B[43mmultiple\u001B[49m\u001B[38;5;241;43m=\u001B[39;49m\u001B[43mmultiple\u001B[49m\u001B[43m,\u001B[49m\n\u001B[1;32m   1418\u001B[0m \u001B[43m        \u001B[49m\u001B[43melement\u001B[49m\u001B[38;5;241;43m=\u001B[39;49m\u001B[43melement\u001B[49m\u001B[43m,\u001B[49m\n\u001B[1;32m   1419\u001B[0m \u001B[43m        \u001B[49m\u001B[43mfill\u001B[49m\u001B[38;5;241;43m=\u001B[39;49m\u001B[43mfill\u001B[49m\u001B[43m,\u001B[49m\n\u001B[1;32m   1420\u001B[0m \u001B[43m        \u001B[49m\u001B[43mshrink\u001B[49m\u001B[38;5;241;43m=\u001B[39;49m\u001B[43mshrink\u001B[49m\u001B[43m,\u001B[49m\n\u001B[1;32m   1421\u001B[0m \u001B[43m        \u001B[49m\u001B[43mcommon_norm\u001B[49m\u001B[38;5;241;43m=\u001B[39;49m\u001B[43mcommon_norm\u001B[49m\u001B[43m,\u001B[49m\n\u001B[1;32m   1422\u001B[0m \u001B[43m        \u001B[49m\u001B[43mcommon_bins\u001B[49m\u001B[38;5;241;43m=\u001B[39;49m\u001B[43mcommon_bins\u001B[49m\u001B[43m,\u001B[49m\n\u001B[1;32m   1423\u001B[0m \u001B[43m        \u001B[49m\u001B[43mkde\u001B[49m\u001B[38;5;241;43m=\u001B[39;49m\u001B[43mkde\u001B[49m\u001B[43m,\u001B[49m\n\u001B[1;32m   1424\u001B[0m \u001B[43m        \u001B[49m\u001B[43mkde_kws\u001B[49m\u001B[38;5;241;43m=\u001B[39;49m\u001B[43mkde_kws\u001B[49m\u001B[43m,\u001B[49m\n\u001B[1;32m   1425\u001B[0m \u001B[43m        \u001B[49m\u001B[43mcolor\u001B[49m\u001B[38;5;241;43m=\u001B[39;49m\u001B[43mcolor\u001B[49m\u001B[43m,\u001B[49m\n\u001B[1;32m   1426\u001B[0m \u001B[43m        \u001B[49m\u001B[43mlegend\u001B[49m\u001B[38;5;241;43m=\u001B[39;49m\u001B[43mlegend\u001B[49m\u001B[43m,\u001B[49m\n\u001B[1;32m   1427\u001B[0m \u001B[43m        \u001B[49m\u001B[43mestimate_kws\u001B[49m\u001B[38;5;241;43m=\u001B[39;49m\u001B[43mestimate_kws\u001B[49m\u001B[43m,\u001B[49m\n\u001B[1;32m   1428\u001B[0m \u001B[43m        \u001B[49m\u001B[43mline_kws\u001B[49m\u001B[38;5;241;43m=\u001B[39;49m\u001B[43mline_kws\u001B[49m\u001B[43m,\u001B[49m\n\u001B[1;32m   1429\u001B[0m \u001B[43m        \u001B[49m\u001B[38;5;241;43m*\u001B[39;49m\u001B[38;5;241;43m*\u001B[39;49m\u001B[43mkwargs\u001B[49m\u001B[43m,\u001B[49m\n\u001B[1;32m   1430\u001B[0m \u001B[43m    \u001B[49m\u001B[43m)\u001B[49m\n\u001B[1;32m   1432\u001B[0m \u001B[38;5;28;01melse\u001B[39;00m:\n\u001B[1;32m   1434\u001B[0m     p\u001B[38;5;241m.\u001B[39mplot_bivariate_histogram(\n\u001B[1;32m   1435\u001B[0m         common_bins\u001B[38;5;241m=\u001B[39mcommon_bins,\n\u001B[1;32m   1436\u001B[0m         common_norm\u001B[38;5;241m=\u001B[39mcommon_norm,\n\u001B[0;32m   (...)\u001B[0m\n\u001B[1;32m   1446\u001B[0m         \u001B[38;5;241m*\u001B[39m\u001B[38;5;241m*\u001B[39mkwargs,\n\u001B[1;32m   1447\u001B[0m     )\n",
      "File \u001B[0;32m~/PycharmProjects/chilng-DS.v2.5.3.4.1/.venv/lib/python3.12/site-packages/seaborn/distributions.py:571\u001B[0m, in \u001B[0;36m_DistributionPlotter.plot_univariate_histogram\u001B[0;34m(self, multiple, element, fill, common_norm, common_bins, shrink, kde, kde_kws, color, legend, line_kws, estimate_kws, **plot_kws)\u001B[0m\n\u001B[1;32m    566\u001B[0m \u001B[38;5;28;01mif\u001B[39;00m element \u001B[38;5;241m==\u001B[39m \u001B[38;5;124m\"\u001B[39m\u001B[38;5;124mbars\u001B[39m\u001B[38;5;124m\"\u001B[39m:\n\u001B[1;32m    567\u001B[0m \n\u001B[1;32m    568\u001B[0m     \u001B[38;5;66;03m# Use matplotlib bar plotting\u001B[39;00m\n\u001B[1;32m    570\u001B[0m     plot_func \u001B[38;5;241m=\u001B[39m ax\u001B[38;5;241m.\u001B[39mbar \u001B[38;5;28;01mif\u001B[39;00m \u001B[38;5;28mself\u001B[39m\u001B[38;5;241m.\u001B[39mdata_variable \u001B[38;5;241m==\u001B[39m \u001B[38;5;124m\"\u001B[39m\u001B[38;5;124mx\u001B[39m\u001B[38;5;124m\"\u001B[39m \u001B[38;5;28;01melse\u001B[39;00m ax\u001B[38;5;241m.\u001B[39mbarh\n\u001B[0;32m--> 571\u001B[0m     artists \u001B[38;5;241m=\u001B[39m \u001B[43mplot_func\u001B[49m\u001B[43m(\u001B[49m\n\u001B[1;32m    572\u001B[0m \u001B[43m        \u001B[49m\u001B[43mhist\u001B[49m\u001B[43m[\u001B[49m\u001B[38;5;124;43m\"\u001B[39;49m\u001B[38;5;124;43medges\u001B[39;49m\u001B[38;5;124;43m\"\u001B[39;49m\u001B[43m]\u001B[49m\u001B[43m,\u001B[49m\n\u001B[1;32m    573\u001B[0m \u001B[43m        \u001B[49m\u001B[43mhist\u001B[49m\u001B[43m[\u001B[49m\u001B[38;5;124;43m\"\u001B[39;49m\u001B[38;5;124;43mheights\u001B[39;49m\u001B[38;5;124;43m\"\u001B[39;49m\u001B[43m]\u001B[49m\u001B[43m \u001B[49m\u001B[38;5;241;43m-\u001B[39;49m\u001B[43m \u001B[49m\u001B[43mbottom\u001B[49m\u001B[43m,\u001B[49m\n\u001B[1;32m    574\u001B[0m \u001B[43m        \u001B[49m\u001B[43mhist\u001B[49m\u001B[43m[\u001B[49m\u001B[38;5;124;43m\"\u001B[39;49m\u001B[38;5;124;43mwidths\u001B[39;49m\u001B[38;5;124;43m\"\u001B[39;49m\u001B[43m]\u001B[49m\u001B[43m,\u001B[49m\n\u001B[1;32m    575\u001B[0m \u001B[43m        \u001B[49m\u001B[43mbottom\u001B[49m\u001B[43m,\u001B[49m\n\u001B[1;32m    576\u001B[0m \u001B[43m        \u001B[49m\u001B[43malign\u001B[49m\u001B[38;5;241;43m=\u001B[39;49m\u001B[38;5;124;43m\"\u001B[39;49m\u001B[38;5;124;43medge\u001B[39;49m\u001B[38;5;124;43m\"\u001B[39;49m\u001B[43m,\u001B[49m\n\u001B[1;32m    577\u001B[0m \u001B[43m        \u001B[49m\u001B[38;5;241;43m*\u001B[39;49m\u001B[38;5;241;43m*\u001B[39;49m\u001B[43martist_kws\u001B[49m\u001B[43m,\u001B[49m\n\u001B[1;32m    578\u001B[0m \u001B[43m    \u001B[49m\u001B[43m)\u001B[49m\n\u001B[1;32m    580\u001B[0m     \u001B[38;5;28;01mfor\u001B[39;00m bar \u001B[38;5;129;01min\u001B[39;00m artists:\n\u001B[1;32m    581\u001B[0m         \u001B[38;5;28;01mif\u001B[39;00m \u001B[38;5;28mself\u001B[39m\u001B[38;5;241m.\u001B[39mdata_variable \u001B[38;5;241m==\u001B[39m \u001B[38;5;124m\"\u001B[39m\u001B[38;5;124mx\u001B[39m\u001B[38;5;124m\"\u001B[39m:\n",
      "File \u001B[0;32m~/PycharmProjects/chilng-DS.v2.5.3.4.1/.venv/lib/python3.12/site-packages/matplotlib/__init__.py:1476\u001B[0m, in \u001B[0;36m_preprocess_data.<locals>.inner\u001B[0;34m(ax, data, *args, **kwargs)\u001B[0m\n\u001B[1;32m   1473\u001B[0m \u001B[38;5;129m@functools\u001B[39m\u001B[38;5;241m.\u001B[39mwraps(func)\n\u001B[1;32m   1474\u001B[0m \u001B[38;5;28;01mdef\u001B[39;00m \u001B[38;5;21minner\u001B[39m(ax, \u001B[38;5;241m*\u001B[39margs, data\u001B[38;5;241m=\u001B[39m\u001B[38;5;28;01mNone\u001B[39;00m, \u001B[38;5;241m*\u001B[39m\u001B[38;5;241m*\u001B[39mkwargs):\n\u001B[1;32m   1475\u001B[0m     \u001B[38;5;28;01mif\u001B[39;00m data \u001B[38;5;129;01mis\u001B[39;00m \u001B[38;5;28;01mNone\u001B[39;00m:\n\u001B[0;32m-> 1476\u001B[0m         \u001B[38;5;28;01mreturn\u001B[39;00m \u001B[43mfunc\u001B[49m\u001B[43m(\u001B[49m\n\u001B[1;32m   1477\u001B[0m \u001B[43m            \u001B[49m\u001B[43max\u001B[49m\u001B[43m,\u001B[49m\n\u001B[1;32m   1478\u001B[0m \u001B[43m            \u001B[49m\u001B[38;5;241;43m*\u001B[39;49m\u001B[38;5;28;43mmap\u001B[39;49m\u001B[43m(\u001B[49m\u001B[43msanitize_sequence\u001B[49m\u001B[43m,\u001B[49m\u001B[43m \u001B[49m\u001B[43margs\u001B[49m\u001B[43m)\u001B[49m\u001B[43m,\u001B[49m\n\u001B[1;32m   1479\u001B[0m \u001B[43m            \u001B[49m\u001B[38;5;241;43m*\u001B[39;49m\u001B[38;5;241;43m*\u001B[39;49m\u001B[43m{\u001B[49m\u001B[43mk\u001B[49m\u001B[43m:\u001B[49m\u001B[43m \u001B[49m\u001B[43msanitize_sequence\u001B[49m\u001B[43m(\u001B[49m\u001B[43mv\u001B[49m\u001B[43m)\u001B[49m\u001B[43m \u001B[49m\u001B[38;5;28;43;01mfor\u001B[39;49;00m\u001B[43m \u001B[49m\u001B[43mk\u001B[49m\u001B[43m,\u001B[49m\u001B[43m \u001B[49m\u001B[43mv\u001B[49m\u001B[43m \u001B[49m\u001B[38;5;129;43;01min\u001B[39;49;00m\u001B[43m \u001B[49m\u001B[43mkwargs\u001B[49m\u001B[38;5;241;43m.\u001B[39;49m\u001B[43mitems\u001B[49m\u001B[43m(\u001B[49m\u001B[43m)\u001B[49m\u001B[43m}\u001B[49m\u001B[43m)\u001B[49m\n\u001B[1;32m   1481\u001B[0m     bound \u001B[38;5;241m=\u001B[39m new_sig\u001B[38;5;241m.\u001B[39mbind(ax, \u001B[38;5;241m*\u001B[39margs, \u001B[38;5;241m*\u001B[39m\u001B[38;5;241m*\u001B[39mkwargs)\n\u001B[1;32m   1482\u001B[0m     auto_label \u001B[38;5;241m=\u001B[39m (bound\u001B[38;5;241m.\u001B[39marguments\u001B[38;5;241m.\u001B[39mget(label_namer)\n\u001B[1;32m   1483\u001B[0m                   \u001B[38;5;129;01mor\u001B[39;00m bound\u001B[38;5;241m.\u001B[39mkwargs\u001B[38;5;241m.\u001B[39mget(label_namer))\n",
      "File \u001B[0;32m~/PycharmProjects/chilng-DS.v2.5.3.4.1/.venv/lib/python3.12/site-packages/matplotlib/axes/_axes.py:2597\u001B[0m, in \u001B[0;36mAxes.bar\u001B[0;34m(self, x, height, width, bottom, align, **kwargs)\u001B[0m\n\u001B[1;32m   2595\u001B[0m     \u001B[38;5;28;01melse\u001B[39;00m:  \u001B[38;5;66;03m# horizontal\u001B[39;00m\n\u001B[1;32m   2596\u001B[0m         r\u001B[38;5;241m.\u001B[39msticky_edges\u001B[38;5;241m.\u001B[39mx\u001B[38;5;241m.\u001B[39mappend(l)\n\u001B[0;32m-> 2597\u001B[0m     \u001B[38;5;28;43mself\u001B[39;49m\u001B[38;5;241;43m.\u001B[39;49m\u001B[43madd_patch\u001B[49m\u001B[43m(\u001B[49m\u001B[43mr\u001B[49m\u001B[43m)\u001B[49m\n\u001B[1;32m   2598\u001B[0m     patches\u001B[38;5;241m.\u001B[39mappend(r)\n\u001B[1;32m   2600\u001B[0m \u001B[38;5;28;01mif\u001B[39;00m xerr \u001B[38;5;129;01mis\u001B[39;00m \u001B[38;5;129;01mnot\u001B[39;00m \u001B[38;5;28;01mNone\u001B[39;00m \u001B[38;5;129;01mor\u001B[39;00m yerr \u001B[38;5;129;01mis\u001B[39;00m \u001B[38;5;129;01mnot\u001B[39;00m \u001B[38;5;28;01mNone\u001B[39;00m:\n",
      "File \u001B[0;32m~/PycharmProjects/chilng-DS.v2.5.3.4.1/.venv/lib/python3.12/site-packages/matplotlib/axes/_base.py:2414\u001B[0m, in \u001B[0;36m_AxesBase.add_patch\u001B[0;34m(self, p)\u001B[0m\n\u001B[1;32m   2412\u001B[0m \u001B[38;5;28;01mif\u001B[39;00m p\u001B[38;5;241m.\u001B[39mget_clip_path() \u001B[38;5;129;01mis\u001B[39;00m \u001B[38;5;28;01mNone\u001B[39;00m:\n\u001B[1;32m   2413\u001B[0m     p\u001B[38;5;241m.\u001B[39mset_clip_path(\u001B[38;5;28mself\u001B[39m\u001B[38;5;241m.\u001B[39mpatch)\n\u001B[0;32m-> 2414\u001B[0m \u001B[38;5;28;43mself\u001B[39;49m\u001B[38;5;241;43m.\u001B[39;49m\u001B[43m_update_patch_limits\u001B[49m\u001B[43m(\u001B[49m\u001B[43mp\u001B[49m\u001B[43m)\u001B[49m\n\u001B[1;32m   2415\u001B[0m \u001B[38;5;28mself\u001B[39m\u001B[38;5;241m.\u001B[39m_children\u001B[38;5;241m.\u001B[39mappend(p)\n\u001B[1;32m   2416\u001B[0m p\u001B[38;5;241m.\u001B[39m_remove_method \u001B[38;5;241m=\u001B[39m \u001B[38;5;28mself\u001B[39m\u001B[38;5;241m.\u001B[39m_children\u001B[38;5;241m.\u001B[39mremove\n",
      "File \u001B[0;32m~/PycharmProjects/chilng-DS.v2.5.3.4.1/.venv/lib/python3.12/site-packages/matplotlib/axes/_base.py:2440\u001B[0m, in \u001B[0;36m_AxesBase._update_patch_limits\u001B[0;34m(self, patch)\u001B[0m\n\u001B[1;32m   2438\u001B[0m     _, dzeros \u001B[38;5;241m=\u001B[39m curve\u001B[38;5;241m.\u001B[39maxis_aligned_extrema()\n\u001B[1;32m   2439\u001B[0m     \u001B[38;5;66;03m# Calculate vertices of start, end and any extrema in between\u001B[39;00m\n\u001B[0;32m-> 2440\u001B[0m     vertices\u001B[38;5;241m.\u001B[39mappend(\u001B[43mcurve\u001B[49m\u001B[43m(\u001B[49m\u001B[43m[\u001B[49m\u001B[38;5;241;43m0\u001B[39;49m\u001B[43m,\u001B[49m\u001B[43m \u001B[49m\u001B[38;5;241;43m*\u001B[39;49m\u001B[43mdzeros\u001B[49m\u001B[43m,\u001B[49m\u001B[43m \u001B[49m\u001B[38;5;241;43m1\u001B[39;49m\u001B[43m]\u001B[49m\u001B[43m)\u001B[49m)\n\u001B[1;32m   2442\u001B[0m \u001B[38;5;28;01mif\u001B[39;00m \u001B[38;5;28mlen\u001B[39m(vertices):\n\u001B[1;32m   2443\u001B[0m     vertices \u001B[38;5;241m=\u001B[39m np\u001B[38;5;241m.\u001B[39mvstack(vertices)\n",
      "\u001B[0;31mKeyboardInterrupt\u001B[0m: "
     ]
    }
   ],
   "execution_count": null
  }
 ],
 "metadata": {
  "kernelspec": {
   "display_name": "Python 3",
   "language": "python",
   "name": "python3"
  },
  "language_info": {
   "codemirror_mode": {
    "name": "ipython",
    "version": 2
   },
   "file_extension": ".py",
   "mimetype": "text/x-python",
   "name": "python",
   "nbconvert_exporter": "python",
   "pygments_lexer": "ipython2",
   "version": "2.7.6"
  }
 },
 "nbformat": 4,
 "nbformat_minor": 5
}
