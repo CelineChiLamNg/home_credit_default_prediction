{
 "cells": [
  {
   "metadata": {},
   "cell_type": "markdown",
   "source": [
    "<h1><center>Home Credit Risk Prediction</center></h1>\n",
    "<center> - sections 7/8 - </center>\n",
    "<center>December 2024</center>\n",
    "<center>Celine Ng</center>"
   ],
   "id": "614178cd476ca3b3"
  },
  {
   "metadata": {},
   "cell_type": "markdown",
   "source": [
    "# Table of Contents\n",
    "\n",
    "1. Project Introduction\n",
    "    1. Notebook Preparation\n",
    "    1. Data loading\n",
    "1. Main Data Preparation\n",
    "    1. Data cleaning\n",
    "    1. Dataframes and keys\n",
    "    1. Train Test Split\n",
    "    1. Quick EDA\n",
    "        1. Keys present in each table\n",
    "        1. Distribution\n",
    "    1. Aggregation\n",
    "1. Initial Data Cleaning\n",
    "    1. Datatypes\n",
    "    1. Missing values\n",
    "1. EDA\n",
    "    1. Original Application Table Distribution\n",
    "    1. Correlation\n",
    "    1. Statistical Inference\n",
    "1. Data Preprocessing\n",
    "1. Feature Engineering\n",
    "    1. Baseline Model\n",
    "    1. New Features\n",
    "    1. More new features\n",
    "1. Models\n",
    "    1. Pipeline\n",
    "    1. Model Selection\n",
    "    1. Test Data\n",
    "1. Final Model\n",
    "    1. Final Model\n",
    "    1. Deployment\n",
    "    1. Model Interpretation\n",
    "1. Improvements"
   ],
   "id": "d564bd4c901e5d70"
  },
  {
   "metadata": {},
   "cell_type": "code",
   "outputs": [],
   "execution_count": null,
   "source": [
    "%%capture\n",
    "%pip install -r requirements.txt"
   ],
   "id": "4d440a6ef89a19c4"
  },
  {
   "metadata": {},
   "cell_type": "code",
   "outputs": [],
   "execution_count": null,
   "source": [
    "import numpy as np\n",
    "import pandas as pd\n",
    "import matplotlib.pyplot as plt\n",
    "import pickle as pkl\n",
    "import os\n",
    "\n",
    "from utils.eda import *\n",
    "from utils.stats import *\n",
    "from utils.custom_preprocessor import *\n",
    "from utils.model import *\n",
    "\n",
    "from sklearn.compose import make_column_selector as selector\n",
    "from sklearn.preprocessing import (OrdinalEncoder, FunctionTransformer)\n",
    "from sklearn.compose import ColumnTransformer\n",
    "from sklearn.pipeline import Pipeline\n",
    "from sklearn.metrics import classification_report, roc_auc_score\n",
    "from sklearn.model_selection import cross_val_score, StratifiedKFold\n",
    "\n",
    "import xgboost as xgb\n",
    "import optuna\n",
    "from scipy.sparse import csr_matrix\n",
    "import shap"
   ],
   "id": "4a05d207024db8a"
  },
  {
   "metadata": {},
   "cell_type": "markdown",
   "source": "***",
   "id": "2466fada01640948"
  },
  {
   "metadata": {},
   "cell_type": "markdown",
   "source": "**Variables & Data from previous notebooks**",
   "id": "8dce79c94800a5f5"
  },
  {
   "metadata": {},
   "cell_type": "markdown",
   "source": "Load aggregated main table",
   "id": "975a4a9b9bc1214e"
  },
  {
   "metadata": {},
   "cell_type": "code",
   "outputs": [],
   "execution_count": null,
   "source": [
    "project_root = os.path.abspath(os.path.join(os.getcwd(), \"..\"))\n",
    "folder = os.path.join(project_root, \"aggregated_data\")\n",
    "data_path = os.path.join(folder, \"data_merged.pkl\")\n",
    "data = pd.read_pickle(data_path)"
   ],
   "id": "e8030abc7cb2e86e"
  },
  {
   "metadata": {},
   "cell_type": "markdown",
   "source": "***",
   "id": "2aa53de6991c288d"
  },
  {
   "metadata": {},
   "cell_type": "markdown",
   "source": [
    "# 7. Model Selection\n",
    "Objective: Compare and find the best model, hyperparameters, and decision\n",
    "threshold for final model training and deployment"
   ],
   "id": "43b02654c32d6c2a"
  },
  {
   "metadata": {},
   "cell_type": "markdown",
   "source": "## 7.1. Pipelines",
   "id": "d6a5f50aa8513dc4"
  },
  {
   "metadata": {},
   "cell_type": "markdown",
   "source": "models",
   "id": "fb430dbd600390f2"
  },
  {
   "cell_type": "code",
   "execution_count": null,
   "id": "initial_id",
   "metadata": {
    "collapsed": true
   },
   "outputs": [],
   "source": [
    "scale_pos_weight = (y_train == 0).sum() / (y_train == 1).sum()\n",
    "clf_xgb = xgb.XGBClassifier(\n",
    "    objective='binary:logistic',\n",
    "    eval_metric = 'auc',\n",
    "    random_state=42,\n",
    "    scale_pos_weight =scale_pos_weight\n",
    ")\n",
    "clf_lgbm = lightgbm.LGBMClassifier(random_state=42, scale_pos_weight=scale_pos_weight)"
   ]
  },
  {
   "metadata": {},
   "cell_type": "code",
   "outputs": [],
   "execution_count": null,
   "source": [
    "from sklearn.pipeline import Pipeline\n",
    "\n",
    "# Create pipeline\n",
    "preprocessing_pipeline = Pipeline([\n",
    "    ('preprocessor', preprocessor_encode),\n",
    "    ('feature_creator', FeatureCreation()),\n",
    "    ('model', clf_xgb)\n",
    "])\n",
    "\n",
    "# Train pipeline\n",
    "preprocessing_pipeline.fit(X_train, y_train)\n",
    "\n",
    "# Save pipeline\n",
    "import joblib\n",
    "joblib.dump(preprocessing_pipeline, 'credit_risk_pipeline.joblib')\n",
    "\n",
    "# Load and predict (in production)\n",
    "loaded_pipeline = joblib.load('credit_risk_pipeline.joblib')\n",
    "predictions = loaded_pipeline.predict(new_data)"
   ],
   "id": "691c9a87940786bf"
  },
  {
   "metadata": {},
   "cell_type": "markdown",
   "source": "Hyperparameter tuning with stratified k fold",
   "id": "c06da70494e1519b"
  },
  {
   "metadata": {},
   "cell_type": "markdown",
   "source": [
    "from sklearn.model_selection import StratifiedKFold\n",
    "from sklearn.metrics import roc_auc_score\n",
    "import optuna\n",
    "import numpy as np\n",
    "\n",
    "# Define the Optuna objective function with Stratified K-Fold\n",
    "def objective(trial):\n",
    "    # Define hyperparameters to tune\n",
    "    params = {\n",
    "        'learning_rate': trial.suggest_float('learning_rate', 0.01, 0.3),\n",
    "        'max_depth': trial.suggest_int('max_depth', 2, 10),\n",
    "        'min_child_weight': trial.suggest_float('min_child_weight', 1, 10),\n",
    "        'subsample': trial.suggest_float('subsample', 0.6, 0.8),\n",
    "        'colsample_bytree': trial.suggest_float('colsample_bytree', 0.6, 0.8),\n",
    "        'gamma': trial.suggest_float('gamma', 0, 5),\n",
    "        'scale_pos_weight': scale_pos_weight,  # Use precomputed weight\n",
    "        'random_state': 42,\n",
    "    }\n",
    "\n",
    "    # Update clf_xgb parameters with sampled hyperparameters\n",
    "    clf_xgb.set_params(**params)\n",
    "\n",
    "    # Stratified K-Fold Cross-Validation\n",
    "    skf = StratifiedKFold(n_splits=5, shuffle=True, random_state=42)\n",
    "    auc_scores = []\n",
    "\n",
    "    for train_idx, val_idx in skf.split(X_train_tf, y_train):\n",
    "        # Split the data into train and validation sets\n",
    "        X_train_fold, X_val_fold = X_train_tf.iloc[train_idx], X_train_tf.iloc[val_idx]\n",
    "        y_train_fold, y_val_fold = y_train.iloc[train_idx], y_train.iloc[val_idx]\n",
    "\n",
    "        # Train the model\n",
    "        clf_xgb.fit(\n",
    "            X_train_fold, y_train_fold,\n",
    "            eval_set=[(X_val_fold, y_val_fold)],\n",
    "            early_stopping_rounds=10,  # Use early stopping\n",
    "            verbose=False\n",
    "        )\n",
    "\n",
    "        # Predict probabilities for validation fold\n",
    "        y_prob = clf_xgb.predict_proba(X_val_fold)[:, 1]\n",
    "\n",
    "        # Compute AUC for the fold\n",
    "        auc_scores.append(roc_auc_score(y_val_fold, y_prob))\n",
    "\n",
    "    # Return the mean AUC across all folds\n",
    "    return np.mean(auc_scores)\n",
    "\n",
    "# Create and run the Optuna study\n",
    "study = optuna.create_study(direction='maximize')\n",
    "study.optimize(objective, n_trials=50)\n",
    "\n",
    "# Print the best parameters and score\n",
    "print(\"Best Parameters:\", study.best_params)\n",
    "print(\"Best ROC AUC:\", study.best_value)"
   ],
   "id": "ef3fa0b9ae99db2d"
  },
  {
   "metadata": {},
   "cell_type": "markdown",
   "source": [
    "1. preprocessing steps ={\n",
    "feature creation (BUREAU_ID, PREV_ID, other domain knowledge based features)\n",
    "encoding (columns from main table contain object dtypes)\n",
    "}\n",
    "2. feature selection if too slow -> model train  -> hyperparameter (select\n",
    "depth\n",
    " to remove useless features) -> train/test cross validation, metrics\n",
    "3. repeat step 2 for all models used (random forest with class weight,\n",
    "imblearn random forest, xgboost with pos scale weight....?)"
   ],
   "id": "98c3eeef5251136c"
  },
  {
   "metadata": {},
   "cell_type": "markdown",
   "source": "# Improvements",
   "id": "8ba877522b3ac674"
  },
  {
   "metadata": {},
   "cell_type": "markdown",
   "source": "1.",
   "id": "c210202eb63889ef"
  }
 ],
 "metadata": {
  "kernelspec": {
   "display_name": "Python 3",
   "language": "python",
   "name": "python3"
  },
  "language_info": {
   "codemirror_mode": {
    "name": "ipython",
    "version": 2
   },
   "file_extension": ".py",
   "mimetype": "text/x-python",
   "name": "python",
   "nbconvert_exporter": "python",
   "pygments_lexer": "ipython2",
   "version": "2.7.6"
  }
 },
 "nbformat": 4,
 "nbformat_minor": 5
}
