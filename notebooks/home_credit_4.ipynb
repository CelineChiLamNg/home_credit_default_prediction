{
 "cells": [
  {
   "metadata": {},
   "cell_type": "markdown",
   "source": [
    "<h1><center>Home Credit Risk Prediction</center></h1>\n",
    "<center> - sections 7/8 - </center>\n",
    "<center>December 2024</center>\n",
    "<center>Celine Ng</center>"
   ],
   "id": "614178cd476ca3b3"
  },
  {
   "metadata": {},
   "cell_type": "markdown",
   "source": [
    "# Table of Contents\n",
    "\n",
    "1. Project Introduction\n",
    "    1. Notebook Preparation\n",
    "    1. Data loading\n",
    "1. Main Data Preparation\n",
    "    1. Data cleaning\n",
    "    1. Dataframes and keys\n",
    "    1. Train Test Split\n",
    "    1. Quick EDA\n",
    "        1. Keys present in each table\n",
    "        1. Distribution\n",
    "    1. Aggregation\n",
    "1. Initial Data Cleaning\n",
    "    1. Datatypes\n",
    "    1. Missing values\n",
    "1. EDA\n",
    "    1. Original Application Table Distribution\n",
    "    1. Correlation\n",
    "    1. Statistical Inference\n",
    "1. Data Preprocessing\n",
    "1. Feature Engineering\n",
    "    1. Baseline Model\n",
    "    1. New Features\n",
    "    1. More new features\n",
    "1. Models\n",
    "    1. Pipeline\n",
    "    1. Model Selection\n",
    "    1. Test Data\n",
    "1. Final Model\n",
    "    1. Final Model\n",
    "    1. Deployment\n",
    "    1. Model Interpretation\n",
    "1. Improvements"
   ],
   "id": "d564bd4c901e5d70"
  },
  {
   "metadata": {
    "ExecuteTime": {
     "end_time": "2024-12-28T18:54:43.625243Z",
     "start_time": "2024-12-28T18:54:43.219564Z"
    }
   },
   "cell_type": "code",
   "source": [
    "%%capture\n",
    "%pip install -r requirements.txt"
   ],
   "id": "4d440a6ef89a19c4",
   "outputs": [],
   "execution_count": 3
  },
  {
   "metadata": {
    "ExecuteTime": {
     "end_time": "2024-12-28T18:54:43.649053Z",
     "start_time": "2024-12-28T18:54:43.630546Z"
    }
   },
   "cell_type": "code",
   "source": [
    "import numpy as np\n",
    "import pandas as pd\n",
    "import matplotlib.pyplot as plt\n",
    "import pickle as pkl\n",
    "import os\n",
    "\n",
    "from utils.custom_preprocessor import *\n",
    "from utils.model import *\n",
    "\n",
    "from sklearn.compose import make_column_selector as selector\n",
    "from sklearn.preprocessing import (OrdinalEncoder, FunctionTransformer)\n",
    "from sklearn.compose import ColumnTransformer\n",
    "from sklearn.pipeline import Pipeline\n",
    "from sklearn.metrics import classification_report, roc_auc_score\n",
    "from sklearn.model_selection import cross_val_score, StratifiedKFold\n",
    "\n",
    "import xgboost as xgb\n",
    "import lightgbm as lgb\n",
    "from sklearn.ensemble import RandomForestClassifier\n",
    "import optuna\n",
    "from scipy.sparse import csr_matrix\n",
    "import shap"
   ],
   "id": "4a05d207024db8a",
   "outputs": [
    {
     "ename": "ModuleNotFoundError",
     "evalue": "No module named 'lightgbm'",
     "output_type": "error",
     "traceback": [
      "\u001B[0;31m---------------------------------------------------------------------------\u001B[0m",
      "\u001B[0;31mModuleNotFoundError\u001B[0m                       Traceback (most recent call last)",
      "Cell \u001B[0;32mIn[4], line 18\u001B[0m\n\u001B[1;32m     15\u001B[0m \u001B[38;5;28;01mfrom\u001B[39;00m \u001B[38;5;21;01msklearn\u001B[39;00m\u001B[38;5;21;01m.\u001B[39;00m\u001B[38;5;21;01mmodel_selection\u001B[39;00m \u001B[38;5;28;01mimport\u001B[39;00m cross_val_score, StratifiedKFold\n\u001B[1;32m     17\u001B[0m \u001B[38;5;28;01mimport\u001B[39;00m \u001B[38;5;21;01mxgboost\u001B[39;00m \u001B[38;5;28;01mas\u001B[39;00m \u001B[38;5;21;01mxgb\u001B[39;00m\n\u001B[0;32m---> 18\u001B[0m \u001B[38;5;28;01mimport\u001B[39;00m \u001B[38;5;21;01mlightgbm\u001B[39;00m \u001B[38;5;28;01mas\u001B[39;00m \u001B[38;5;21;01mlgb\u001B[39;00m\n\u001B[1;32m     19\u001B[0m \u001B[38;5;28;01mfrom\u001B[39;00m \u001B[38;5;21;01msklearn\u001B[39;00m\u001B[38;5;21;01m.\u001B[39;00m\u001B[38;5;21;01mensemble\u001B[39;00m \u001B[38;5;28;01mimport\u001B[39;00m RandomForestClassifier\n\u001B[1;32m     20\u001B[0m \u001B[38;5;28;01mimport\u001B[39;00m \u001B[38;5;21;01moptuna\u001B[39;00m\n",
      "\u001B[0;31mModuleNotFoundError\u001B[0m: No module named 'lightgbm'"
     ]
    }
   ],
   "execution_count": 4
  },
  {
   "metadata": {},
   "cell_type": "markdown",
   "source": "***",
   "id": "2466fada01640948"
  },
  {
   "metadata": {},
   "cell_type": "markdown",
   "source": "**Variables & Data from previous notebooks**",
   "id": "8dce79c94800a5f5"
  },
  {
   "metadata": {},
   "cell_type": "markdown",
   "source": "Load aggregated main table",
   "id": "975a4a9b9bc1214e"
  },
  {
   "metadata": {},
   "cell_type": "code",
   "outputs": [],
   "execution_count": null,
   "source": [
    "project_root = os.path.abspath(os.path.join(os.getcwd(), \"..\"))\n",
    "folder = os.path.join(project_root, \"aggregated_data\")\n",
    "data_path = os.path.join(folder, \"data_merged.pkl\")\n",
    "data = pd.read_pickle(data_path)"
   ],
   "id": "e8030abc7cb2e86e"
  },
  {
   "metadata": {},
   "cell_type": "markdown",
   "source": "Data",
   "id": "8d1a04db753871b"
  },
  {
   "metadata": {},
   "cell_type": "code",
   "outputs": [],
   "execution_count": null,
   "source": [
    "ml_data = data.copy()\n",
    "ml_data_sample = ml_data.sample(n=10, random_state=42)\n",
    "\n",
    "target = 'TARGET'\n",
    "binary_columns =['FLAG_MOBIL', 'FLAG_EMP_PHONE', 'FLAG_WORK_PHONE',\n",
    "                 'FLAG_CONT_MOBILE', 'FLAG_PHONE', 'FLAG_EMAIL', 'REG_REGION_NOT_LIVE_REGION', 'REG_REGION_NOT_WORK_REGION', 'LIVE_REGION_NOT_WORK_REGION', 'REG_CITY_NOT_LIVE_CITY', 'REG_CITY_NOT_WORK_CITY', 'LIVE_CITY_NOT_WORK_CITY', 'FLAG_DOCUMENT_2', 'FLAG_DOCUMENT_3', 'FLAG_DOCUMENT_4', 'FLAG_DOCUMENT_5', 'FLAG_DOCUMENT_6', 'FLAG_DOCUMENT_7', 'FLAG_DOCUMENT_8', 'FLAG_DOCUMENT_9', 'FLAG_DOCUMENT_10', 'FLAG_DOCUMENT_11', 'FLAG_DOCUMENT_12', 'FLAG_DOCUMENT_13', 'FLAG_DOCUMENT_14', 'FLAG_DOCUMENT_15', 'FLAG_DOCUMENT_16', 'FLAG_DOCUMENT_17', 'FLAG_DOCUMENT_18', 'FLAG_DOCUMENT_19', 'FLAG_DOCUMENT_20', 'FLAG_DOCUMENT_21', 'EMERGENCYSTATE_MODE', 'FLAG_OWN_CAR', 'FLAG_OWN_REALTY', 'CODE_GENDER']\n",
    "categorical_columns = ['NAME_CONTRACT_TYPE', 'NAME_TYPE_SUITE', 'NAME_INCOME_TYPE', 'NAME_EDUCATION_TYPE', 'NAME_FAMILY_STATUS', 'NAME_HOUSING_TYPE', 'OCCUPATION_TYPE', 'WEEKDAY_APPR_PROCESS_START', 'ORGANIZATION_TYPE', 'FONDKAPREMONT_MODE', 'HOUSETYPE_MODE', 'WALLSMATERIAL_MODE']\n",
    "\n",
    "X, y = (ml_data.drop(columns=[target]).copy(),\n",
    "        ml_data[target].reset_index(drop=True))"
   ],
   "id": "7aad9c0877d336e"
  },
  {
   "metadata": {},
   "cell_type": "markdown",
   "source": "Preprocessor Encoding",
   "id": "c7ede62c2200624f"
  },
  {
   "metadata": {},
   "cell_type": "code",
   "outputs": [],
   "execution_count": null,
   "source": [
    "numerical_binary_columns = (ml_data_sample[binary_columns].select_dtypes\n",
    "                            (include='number'))\n",
    "object_binary_columns = [col for col in binary_columns if col not in numerical_binary_columns]"
   ],
   "id": "8a55a4e3463bf382"
  },
  {
   "metadata": {},
   "cell_type": "code",
   "outputs": [],
   "execution_count": null,
   "source": [
    "preprocessor_encode = ColumnTransformer(\n",
    "    transformers=[\n",
    "        ('binary_encode', OrdinalEncoder(), object_binary_columns),\n",
    "        ('freq_encode', FrequencyEncoder(), categorical_columns),\n",
    "    ],\n",
    "    remainder='passthrough',\n",
    "    verbose_feature_names_out=False\n",
    ")"
   ],
   "id": "622cfd5c18c267bd"
  },
  {
   "metadata": {},
   "cell_type": "markdown",
   "source": "***",
   "id": "2aa53de6991c288d"
  },
  {
   "metadata": {},
   "cell_type": "markdown",
   "source": [
    "# 7. Model Selection\n",
    "Objective: Compare and find the best model, hyperparameters, and decision\n",
    "threshold for final model training and deployment"
   ],
   "id": "43b02654c32d6c2a"
  },
  {
   "metadata": {},
   "cell_type": "markdown",
   "source": "## 7.1. Pipelines",
   "id": "d6a5f50aa8513dc4"
  },
  {
   "metadata": {},
   "cell_type": "code",
   "outputs": [],
   "execution_count": null,
   "source": [
    "ml_data = data.copy()\n",
    "ml_data_sample = ml_data.sample(n=10, random_state=42)\n",
    "target = 'TARGET'\n",
    "\n",
    "X, y = (ml_data.drop(columns=[target]).copy(),\n",
    "        ml_data[target].reset_index(drop=True))"
   ],
   "id": "21de9665e653e46c"
  },
  {
   "metadata": {},
   "cell_type": "markdown",
   "source": "**Define Models**",
   "id": "c679caa79d80051d"
  },
  {
   "cell_type": "code",
   "execution_count": null,
   "id": "initial_id",
   "metadata": {
    "collapsed": true
   },
   "outputs": [],
   "source": [
    "clf_xgb = xgb.XGBClassifier(\n",
    "    objective='binary:logistic',\n",
    "    eval_metric = 'auc',\n",
    "    random_state=42,\n",
    "    scale_pos_weight = (y == 0).sum() / (y == 1).sum()\n",
    ")\n",
    "\n",
    "clf_lgbm = lgb.LGBMClassifier(\n",
    "    objective='binary:logistic',\n",
    "    eval_metric = 'auc',\n",
    "    random_state=42,\n",
    "    scale_pos_weight = (y == 0).sum() / (y == 1).sum()\n",
    ")\n",
    "\n",
    "clf_rf = RandomForestClassifier(\n",
    "    n_estimators = 100,\n",
    "    class_weight = 'balanced',\n",
    "    random_state = 42,\n",
    "    n_jobs = -1\n",
    ")"
   ]
  },
  {
   "metadata": {},
   "cell_type": "markdown",
   "source": "**Define Pipeline**",
   "id": "aeb6050a5af19038"
  },
  {
   "metadata": {},
   "cell_type": "code",
   "outputs": [],
   "execution_count": null,
   "source": [
    "xgb_pipeline = Pipeline([\n",
    "    ('preprocessor', preprocessor_encode),\n",
    "    ('feature_creator', FeatureCreation2()),\n",
    "    ('model', clf_xgb)\n",
    "])\n",
    "\n",
    "lgb_pipeline = Pipeline([\n",
    "    ('preprocessor', preprocessor_encode),\n",
    "    ('feature_creator', FeatureCreation2()),\n",
    "    ('model', clf_lgbm)\n",
    "])\n",
    "\n",
    "rf_pipeline = Pipeline([\n",
    "    ('preprocessor', preprocessor_encode),\n",
    "    ('feature_creator', FeatureCreation2()),\n",
    "    ('model', clf_rf)\n",
    "])"
   ],
   "id": "691c9a87940786bf"
  },
  {
   "metadata": {
    "ExecuteTime": {
     "end_time": "2024-12-28T18:54:43.660141Z",
     "start_time": "2024-12-28T18:50:47.941259Z"
    }
   },
   "cell_type": "code",
   "source": "xgb_pipeline.fit(X, y)",
   "id": "c0ae2fefd8cd05bf",
   "outputs": [
    {
     "ename": "NameError",
     "evalue": "name 'xgb_pipeline' is not defined",
     "output_type": "error",
     "traceback": [
      "\u001B[0;31m---------------------------------------------------------------------------\u001B[0m",
      "\u001B[0;31mNameError\u001B[0m                                 Traceback (most recent call last)",
      "Cell \u001B[0;32mIn[1], line 1\u001B[0m\n\u001B[0;32m----> 1\u001B[0m \u001B[43mxgb_pipeline\u001B[49m\u001B[38;5;241m.\u001B[39mfit(X , y)\n",
      "\u001B[0;31mNameError\u001B[0m: name 'xgb_pipeline' is not defined"
     ]
    }
   ],
   "execution_count": 1
  },
  {
   "metadata": {},
   "cell_type": "markdown",
   "source": [
    "# Train pipeline\n",
    "preprocessing_pipeline.fit(X_train, y_train)\n",
    "\n",
    "# Save pipeline\n",
    "import joblib\n",
    "joblib.dump(preprocessing_pipeline, 'credit_risk_pipeline.joblib')\n",
    "\n",
    "# Load and predict (in production)\n",
    "loaded_pipeline = joblib.load('credit_risk_pipeline.joblib')\n",
    "predictions = loaded_pipeline.predict(new_data)"
   ],
   "id": "d10792c5102d586c"
  },
  {
   "metadata": {},
   "cell_type": "markdown",
   "source": "Hyperparameter tuning with stratified k fold",
   "id": "c06da70494e1519b"
  },
  {
   "metadata": {},
   "cell_type": "markdown",
   "source": [
    "from sklearn.model_selection import StratifiedKFold\n",
    "from sklearn.metrics import roc_auc_score\n",
    "import optuna\n",
    "import numpy as np\n",
    "\n",
    "# Define the Optuna objective function with Stratified K-Fold\n",
    "def objective(trial):\n",
    "    # Define hyperparameters to tune\n",
    "    params = {\n",
    "        'learning_rate': trial.suggest_float('learning_rate', 0.01, 0.3),\n",
    "        'max_depth': trial.suggest_int('max_depth', 2, 10),\n",
    "        'min_child_weight': trial.suggest_float('min_child_weight', 1, 10),\n",
    "        'subsample': trial.suggest_float('subsample', 0.6, 0.8),\n",
    "        'colsample_bytree': trial.suggest_float('colsample_bytree', 0.6, 0.8),\n",
    "        'gamma': trial.suggest_float('gamma', 0, 5),\n",
    "        'scale_pos_weight': scale_pos_weight,  # Use precomputed weight\n",
    "        'random_state': 42,\n",
    "    }\n",
    "\n",
    "    # Update clf_xgb parameters with sampled hyperparameters\n",
    "    clf_xgb.set_params(**params)\n",
    "\n",
    "    # Stratified K-Fold Cross-Validation\n",
    "    skf = StratifiedKFold(n_splits=5, shuffle=True, random_state=42)\n",
    "    auc_scores = []\n",
    "\n",
    "    for train_idx, val_idx in skf.split(X_train_tf, y_train):\n",
    "        # Split the data into train and validation sets\n",
    "        X_train_fold, X_val_fold = X_train_tf.iloc[train_idx], X_train_tf.iloc[val_idx]\n",
    "        y_train_fold, y_val_fold = y_train.iloc[train_idx], y_train.iloc[val_idx]\n",
    "\n",
    "        # Train the model\n",
    "        clf_xgb.fit(\n",
    "            X_train_fold, y_train_fold,\n",
    "            eval_set=[(X_val_fold, y_val_fold)],\n",
    "            early_stopping_rounds=10,  # Use early stopping\n",
    "            verbose=False\n",
    "        )\n",
    "\n",
    "        # Predict probabilities for validation fold\n",
    "        y_prob = clf_xgb.predict_proba(X_val_fold)[:, 1]\n",
    "\n",
    "        # Compute AUC for the fold\n",
    "        auc_scores.append(roc_auc_score(y_val_fold, y_prob))\n",
    "\n",
    "    # Return the mean AUC across all folds\n",
    "    return np.mean(auc_scores)\n",
    "\n",
    "# Create and run the Optuna study\n",
    "study = optuna.create_study(direction='maximize')\n",
    "study.optimize(objective, n_trials=50)\n",
    "\n",
    "# Print the best parameters and score\n",
    "print(\"Best Parameters:\", study.best_params)\n",
    "print(\"Best ROC AUC:\", study.best_value)"
   ],
   "id": "ef3fa0b9ae99db2d"
  },
  {
   "metadata": {},
   "cell_type": "markdown",
   "source": [
    "1. preprocessing steps ={\n",
    "feature creation (BUREAU_ID, PREV_ID, other domain knowledge based features)\n",
    "encoding (columns from main table contain object dtypes)\n",
    "}\n",
    "2. feature selection if too slow -> model train  -> hyperparameter (select\n",
    "depth\n",
    " to remove useless features) -> train/test cross validation, metrics\n",
    "3. repeat step 2 for all models used (random forest with class weight,\n",
    "imblearn random forest, xgboost with pos scale weight....?)"
   ],
   "id": "98c3eeef5251136c"
  },
  {
   "metadata": {},
   "cell_type": "markdown",
   "source": [
    "# Create pipeline\n",
    "preprocessing_pipeline = Pipeline([\n",
    "    ('preprocessor', preprocessor_encode),\n",
    "    ('feature_creator', FeatureCreation2()),\n",
    "    ('model', clf_xgb)\n",
    "])\n",
    "\n",
    "# Train pipeline\n",
    "preprocessing_pipeline.fit(X_train, y_train)\n",
    "\n",
    "# Save pipeline\n",
    "import joblib\n",
    "joblib.dump(preprocessing_pipeline, 'credit_risk_pipeline.joblib')\n",
    "\n",
    "# Load and predict (in production)\n",
    "loaded_pipeline = joblib.load('credit_risk_pipeline.joblib')\n",
    "predictions = loaded_pipeline.predict(new_data)"
   ],
   "id": "b5db41541f4eb904"
  },
  {
   "metadata": {},
   "cell_type": "markdown",
   "source": "# Improvements",
   "id": "8ba877522b3ac674"
  },
  {
   "metadata": {},
   "cell_type": "markdown",
   "source": "1.",
   "id": "c210202eb63889ef"
  }
 ],
 "metadata": {
  "kernelspec": {
   "display_name": "Python 3",
   "language": "python",
   "name": "python3"
  },
  "language_info": {
   "codemirror_mode": {
    "name": "ipython",
    "version": 2
   },
   "file_extension": ".py",
   "mimetype": "text/x-python",
   "name": "python",
   "nbconvert_exporter": "python",
   "pygments_lexer": "ipython2",
   "version": "2.7.6"
  }
 },
 "nbformat": 4,
 "nbformat_minor": 5
}
