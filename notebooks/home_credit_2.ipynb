{
 "cells": [
  {
   "metadata": {},
   "cell_type": "markdown",
   "source": [
    "<h1><center>Home Credit Risk Prediction</center></h1>\n",
    "<center>December 2024</center>\n",
    "<center>Celine Ng</center>"
   ],
   "id": "92269b509fbd4d41"
  },
  {
   "metadata": {},
   "cell_type": "markdown",
   "source": [
    "# Table of Contents\n",
    "\n",
    "1. Project Introduction\n",
    "    1. Notebook Preparation\n",
    "    1. Data loading\n",
    "1. Main Data Preparation\n",
    "    1. Data cleaning\n",
    "    1. Dataframes and keys\n",
    "    1. Train Test Split\n",
    "    1. Aggregation\n",
    "1. Initial Data Cleaning\n",
    "    1. Datatypes\n",
    "    1. Missing values\n",
    "    1. Values\n",
    "1. EDA\n",
    "    1. Correlation\n",
    "    1. Statistical Inference\n",
    "    1. Distribution\n",
    "1. Data Preprocessing\n",
    "1. Feature Selection\n",
    "    1. All features included\n",
    "    1. Mutual Information\n",
    "    1. PCA\n",
    "1. Models\n",
    "    1. Baseline model\n",
    "    1. Basic model\n",
    "    1. Hyperparameter Tuning\n",
    "    1. Test Data\n",
    "    1. Final Model\n",
    "    1. Deployment\n",
    "    1. Model Interpretation\n",
    "1. Improvements"
   ],
   "id": "cfa16de4e47ad38e"
  },
  {
   "metadata": {
    "ExecuteTime": {
     "end_time": "2024-12-09T11:46:58.150746Z",
     "start_time": "2024-12-09T11:46:57.800472Z"
    }
   },
   "cell_type": "code",
   "source": [
    "%%capture\n",
    "%pip install -r requirements.txt"
   ],
   "id": "9c15bbc8ac0ec79f",
   "outputs": [],
   "execution_count": 1
  },
  {
   "metadata": {
    "ExecuteTime": {
     "end_time": "2024-12-09T17:59:55.341285Z",
     "start_time": "2024-12-09T17:59:55.330216Z"
    }
   },
   "cell_type": "code",
   "source": [
    "import numpy as np\n",
    "import pandas as pd\n",
    "import matplotlib.pyplot as plt\n",
    "import seaborn as sns\n",
    "import pickle as pkl\n",
    "import os\n",
    "\n",
    "from utils.eda import *"
   ],
   "id": "b35e81fa0edbae10",
   "outputs": [],
   "execution_count": 16
  },
  {
   "metadata": {},
   "cell_type": "markdown",
   "source": "# 3. Initial Data Cleaning",
   "id": "76e9a4944c75fc3e"
  },
  {
   "metadata": {},
   "cell_type": "markdown",
   "source": "Load the aggregated table for training and name it 'data' for simplicity",
   "id": "bc0fc4f3a6d7c20e"
  },
  {
   "cell_type": "code",
   "id": "initial_id",
   "metadata": {
    "collapsed": true,
    "ExecuteTime": {
     "end_time": "2024-12-09T11:51:35.635759Z",
     "start_time": "2024-12-09T11:51:34.273346Z"
    }
   },
   "source": [
    "data = pd.read_pickle('../aggregated_data/data_merged.pkl')\n",
    "display(data.head())\n",
    "data_shape = data.shape\n",
    "print(f\"Number of rows on train data_csv: {data_shape[0]}\\nNumber of \"\n",
    "      f\"columns on train data_csv: {data_shape[1]}\")"
   ],
   "outputs": [
    {
     "data": {
      "text/plain": [
       "   SK_ID_CURR  TARGET NAME_CONTRACT_TYPE CODE_GENDER FLAG_OWN_CAR  \\\n",
       "0      310536       0         Cash loans           F            N   \n",
       "1      365516       0         Cash loans           M            Y   \n",
       "2      242055       1         Cash loans           M            N   \n",
       "3      454894       1         Cash loans           M            N   \n",
       "4      448321       0         Cash loans           F            N   \n",
       "\n",
       "  FLAG_OWN_REALTY  CNT_CHILDREN  AMT_INCOME_TOTAL  AMT_CREDIT  AMT_ANNUITY  \\\n",
       "0               N             2           90000.0    227520.0      13189.5   \n",
       "1               Y             0           90000.0    161730.0      13095.0   \n",
       "2               Y             0          135000.0    728847.0      26307.0   \n",
       "3               N             0          135000.0    474183.0      34636.5   \n",
       "4               Y             0          180000.0    254700.0      27558.0   \n",
       "\n",
       "   ...  previous_application_NAME_YIELD_GROUP_sum  \\\n",
       "0  ...                                       10.0   \n",
       "1  ...                                       19.0   \n",
       "2  ...                                        1.0   \n",
       "3  ...                                       19.0   \n",
       "4  ...                                        1.0   \n",
       "\n",
       "  previous_application_NAME_YIELD_GROUP_min  \\\n",
       "0                                       0.0   \n",
       "1                                       0.0   \n",
       "2                                       1.0   \n",
       "3                                       0.0   \n",
       "4                                       0.0   \n",
       "\n",
       "  previous_application_NAME_YIELD_GROUP_max  \\\n",
       "0                                       4.0   \n",
       "1                                       4.0   \n",
       "2                                       1.0   \n",
       "3                                       4.0   \n",
       "4                                       1.0   \n",
       "\n",
       "  previous_application_NAME_YIELD_GROUP_count  \\\n",
       "0                                         5.0   \n",
       "1                                         6.0   \n",
       "2                                         1.0   \n",
       "3                                         8.0   \n",
       "4                                         2.0   \n",
       "\n",
       "  previous_application_PRODUCT_COMBINATION_mean  \\\n",
       "0                                          7.80   \n",
       "1                                          9.00   \n",
       "2                                          9.00   \n",
       "3                                          8.25   \n",
       "4                                          7.50   \n",
       "\n",
       "  previous_application_PRODUCT_COMBINATION_sum  \\\n",
       "0                                         39.0   \n",
       "1                                         54.0   \n",
       "2                                          9.0   \n",
       "3                                         66.0   \n",
       "4                                         15.0   \n",
       "\n",
       "   previous_application_PRODUCT_COMBINATION_min  \\\n",
       "0                                           1.0   \n",
       "1                                           2.0   \n",
       "2                                           9.0   \n",
       "3                                           2.0   \n",
       "4                                           2.0   \n",
       "\n",
       "   previous_application_PRODUCT_COMBINATION_max  \\\n",
       "0                                          13.0   \n",
       "1                                          11.0   \n",
       "2                                           9.0   \n",
       "3                                          13.0   \n",
       "4                                          13.0   \n",
       "\n",
       "   previous_application_PRODUCT_COMBINATION_count  SK_ID_PREV_count  \n",
       "0                                             5.0               5.0  \n",
       "1                                             6.0               6.0  \n",
       "2                                             1.0               1.0  \n",
       "3                                             8.0               8.0  \n",
       "4                                             2.0               2.0  \n",
       "\n",
       "[5 rows x 1791 columns]"
      ],
      "text/html": [
       "<div>\n",
       "<style scoped>\n",
       "    .dataframe tbody tr th:only-of-type {\n",
       "        vertical-align: middle;\n",
       "    }\n",
       "\n",
       "    .dataframe tbody tr th {\n",
       "        vertical-align: top;\n",
       "    }\n",
       "\n",
       "    .dataframe thead th {\n",
       "        text-align: right;\n",
       "    }\n",
       "</style>\n",
       "<table border=\"1\" class=\"dataframe\">\n",
       "  <thead>\n",
       "    <tr style=\"text-align: right;\">\n",
       "      <th></th>\n",
       "      <th>SK_ID_CURR</th>\n",
       "      <th>TARGET</th>\n",
       "      <th>NAME_CONTRACT_TYPE</th>\n",
       "      <th>CODE_GENDER</th>\n",
       "      <th>FLAG_OWN_CAR</th>\n",
       "      <th>FLAG_OWN_REALTY</th>\n",
       "      <th>CNT_CHILDREN</th>\n",
       "      <th>AMT_INCOME_TOTAL</th>\n",
       "      <th>AMT_CREDIT</th>\n",
       "      <th>AMT_ANNUITY</th>\n",
       "      <th>...</th>\n",
       "      <th>previous_application_NAME_YIELD_GROUP_sum</th>\n",
       "      <th>previous_application_NAME_YIELD_GROUP_min</th>\n",
       "      <th>previous_application_NAME_YIELD_GROUP_max</th>\n",
       "      <th>previous_application_NAME_YIELD_GROUP_count</th>\n",
       "      <th>previous_application_PRODUCT_COMBINATION_mean</th>\n",
       "      <th>previous_application_PRODUCT_COMBINATION_sum</th>\n",
       "      <th>previous_application_PRODUCT_COMBINATION_min</th>\n",
       "      <th>previous_application_PRODUCT_COMBINATION_max</th>\n",
       "      <th>previous_application_PRODUCT_COMBINATION_count</th>\n",
       "      <th>SK_ID_PREV_count</th>\n",
       "    </tr>\n",
       "  </thead>\n",
       "  <tbody>\n",
       "    <tr>\n",
       "      <th>0</th>\n",
       "      <td>310536</td>\n",
       "      <td>0</td>\n",
       "      <td>Cash loans</td>\n",
       "      <td>F</td>\n",
       "      <td>N</td>\n",
       "      <td>N</td>\n",
       "      <td>2</td>\n",
       "      <td>90000.0</td>\n",
       "      <td>227520.0</td>\n",
       "      <td>13189.5</td>\n",
       "      <td>...</td>\n",
       "      <td>10.0</td>\n",
       "      <td>0.0</td>\n",
       "      <td>4.0</td>\n",
       "      <td>5.0</td>\n",
       "      <td>7.80</td>\n",
       "      <td>39.0</td>\n",
       "      <td>1.0</td>\n",
       "      <td>13.0</td>\n",
       "      <td>5.0</td>\n",
       "      <td>5.0</td>\n",
       "    </tr>\n",
       "    <tr>\n",
       "      <th>1</th>\n",
       "      <td>365516</td>\n",
       "      <td>0</td>\n",
       "      <td>Cash loans</td>\n",
       "      <td>M</td>\n",
       "      <td>Y</td>\n",
       "      <td>Y</td>\n",
       "      <td>0</td>\n",
       "      <td>90000.0</td>\n",
       "      <td>161730.0</td>\n",
       "      <td>13095.0</td>\n",
       "      <td>...</td>\n",
       "      <td>19.0</td>\n",
       "      <td>0.0</td>\n",
       "      <td>4.0</td>\n",
       "      <td>6.0</td>\n",
       "      <td>9.00</td>\n",
       "      <td>54.0</td>\n",
       "      <td>2.0</td>\n",
       "      <td>11.0</td>\n",
       "      <td>6.0</td>\n",
       "      <td>6.0</td>\n",
       "    </tr>\n",
       "    <tr>\n",
       "      <th>2</th>\n",
       "      <td>242055</td>\n",
       "      <td>1</td>\n",
       "      <td>Cash loans</td>\n",
       "      <td>M</td>\n",
       "      <td>N</td>\n",
       "      <td>Y</td>\n",
       "      <td>0</td>\n",
       "      <td>135000.0</td>\n",
       "      <td>728847.0</td>\n",
       "      <td>26307.0</td>\n",
       "      <td>...</td>\n",
       "      <td>1.0</td>\n",
       "      <td>1.0</td>\n",
       "      <td>1.0</td>\n",
       "      <td>1.0</td>\n",
       "      <td>9.00</td>\n",
       "      <td>9.0</td>\n",
       "      <td>9.0</td>\n",
       "      <td>9.0</td>\n",
       "      <td>1.0</td>\n",
       "      <td>1.0</td>\n",
       "    </tr>\n",
       "    <tr>\n",
       "      <th>3</th>\n",
       "      <td>454894</td>\n",
       "      <td>1</td>\n",
       "      <td>Cash loans</td>\n",
       "      <td>M</td>\n",
       "      <td>N</td>\n",
       "      <td>N</td>\n",
       "      <td>0</td>\n",
       "      <td>135000.0</td>\n",
       "      <td>474183.0</td>\n",
       "      <td>34636.5</td>\n",
       "      <td>...</td>\n",
       "      <td>19.0</td>\n",
       "      <td>0.0</td>\n",
       "      <td>4.0</td>\n",
       "      <td>8.0</td>\n",
       "      <td>8.25</td>\n",
       "      <td>66.0</td>\n",
       "      <td>2.0</td>\n",
       "      <td>13.0</td>\n",
       "      <td>8.0</td>\n",
       "      <td>8.0</td>\n",
       "    </tr>\n",
       "    <tr>\n",
       "      <th>4</th>\n",
       "      <td>448321</td>\n",
       "      <td>0</td>\n",
       "      <td>Cash loans</td>\n",
       "      <td>F</td>\n",
       "      <td>N</td>\n",
       "      <td>Y</td>\n",
       "      <td>0</td>\n",
       "      <td>180000.0</td>\n",
       "      <td>254700.0</td>\n",
       "      <td>27558.0</td>\n",
       "      <td>...</td>\n",
       "      <td>1.0</td>\n",
       "      <td>0.0</td>\n",
       "      <td>1.0</td>\n",
       "      <td>2.0</td>\n",
       "      <td>7.50</td>\n",
       "      <td>15.0</td>\n",
       "      <td>2.0</td>\n",
       "      <td>13.0</td>\n",
       "      <td>2.0</td>\n",
       "      <td>2.0</td>\n",
       "    </tr>\n",
       "  </tbody>\n",
       "</table>\n",
       "<p>5 rows × 1791 columns</p>\n",
       "</div>"
      ]
     },
     "metadata": {},
     "output_type": "display_data"
    },
    {
     "name": "stdout",
     "output_type": "stream",
     "text": [
      "Number of rows on train data_csv: 246008\n",
      "Number of columns on train data_csv: 1791\n"
     ]
    }
   ],
   "execution_count": 3
  },
  {
   "metadata": {},
   "cell_type": "markdown",
   "source": "## 3.1. Data Types",
   "id": "1e6fd65fa55b6c62"
  },
  {
   "metadata": {
    "ExecuteTime": {
     "end_time": "2024-12-09T11:57:16.070906Z",
     "start_time": "2024-12-09T11:57:16.065178Z"
    }
   },
   "cell_type": "code",
   "source": "data.dtypes",
   "id": "c522bb5970c85395",
   "outputs": [
    {
     "data": {
      "text/plain": [
       "SK_ID_CURR                                          int64\n",
       "TARGET                                              int64\n",
       "NAME_CONTRACT_TYPE                                 object\n",
       "CODE_GENDER                                        object\n",
       "FLAG_OWN_CAR                                       object\n",
       "                                                   ...   \n",
       "previous_application_PRODUCT_COMBINATION_sum      float64\n",
       "previous_application_PRODUCT_COMBINATION_min      float64\n",
       "previous_application_PRODUCT_COMBINATION_max      float64\n",
       "previous_application_PRODUCT_COMBINATION_count    float64\n",
       "SK_ID_PREV_count                                  float64\n",
       "Length: 1791, dtype: object"
      ]
     },
     "execution_count": 7,
     "metadata": {},
     "output_type": "execute_result"
    }
   ],
   "execution_count": 7
  },
  {
   "metadata": {},
   "cell_type": "markdown",
   "source": [
    "There are still some object columns remaining from the main table itself,\n",
    "originally called *application*."
   ],
   "id": "4e511a1c9f7bd31c"
  },
  {
   "metadata": {
    "ExecuteTime": {
     "end_time": "2024-12-09T12:02:01.916910Z",
     "start_time": "2024-12-09T12:02:01.885122Z"
    }
   },
   "cell_type": "code",
   "source": [
    "columns = data.select_dtypes(include='object').columns.tolist()\n",
    "data[columns]"
   ],
   "id": "c51f69086f29a06d",
   "outputs": [
    {
     "data": {
      "text/plain": [
       "       NAME_CONTRACT_TYPE CODE_GENDER FLAG_OWN_CAR FLAG_OWN_REALTY  \\\n",
       "0              Cash loans           F            N               N   \n",
       "1              Cash loans           M            Y               Y   \n",
       "2              Cash loans           M            N               Y   \n",
       "3              Cash loans           M            N               N   \n",
       "4              Cash loans           F            N               Y   \n",
       "...                   ...         ...          ...             ...   \n",
       "246003    Revolving loans           F            N               Y   \n",
       "246004         Cash loans           F            N               N   \n",
       "246005         Cash loans           F            N               N   \n",
       "246006         Cash loans           F            N               Y   \n",
       "246007         Cash loans           F            Y               Y   \n",
       "\n",
       "        NAME_TYPE_SUITE      NAME_INCOME_TYPE            NAME_EDUCATION_TYPE  \\\n",
       "0         Unaccompanied  Commercial associate               Higher education   \n",
       "1         Unaccompanied  Commercial associate  Secondary / secondary special   \n",
       "2       Spouse, partner               Working  Secondary / secondary special   \n",
       "3         Unaccompanied  Commercial associate  Secondary / secondary special   \n",
       "4         Unaccompanied  Commercial associate              Incomplete higher   \n",
       "...                 ...                   ...                            ...   \n",
       "246003    Unaccompanied  Commercial associate  Secondary / secondary special   \n",
       "246004    Unaccompanied         State servant  Secondary / secondary special   \n",
       "246005    Unaccompanied             Pensioner  Secondary / secondary special   \n",
       "246006         Children             Pensioner  Secondary / secondary special   \n",
       "246007           Family             Pensioner  Secondary / secondary special   \n",
       "\n",
       "          NAME_FAMILY_STATUS  NAME_HOUSING_TYPE OCCUPATION_TYPE  \\\n",
       "0                    Married  House / apartment        Laborers   \n",
       "1                    Married  House / apartment         Drivers   \n",
       "2       Single / not married  House / apartment        Laborers   \n",
       "3       Single / not married  House / apartment        Laborers   \n",
       "4       Single / not married  House / apartment     Accountants   \n",
       "...                      ...                ...             ...   \n",
       "246003               Married  House / apartment     Sales staff   \n",
       "246004  Single / not married  House / apartment     Secretaries   \n",
       "246005        Civil marriage  House / apartment             NaN   \n",
       "246006               Married  House / apartment             NaN   \n",
       "246007               Married  House / apartment             NaN   \n",
       "\n",
       "       WEEKDAY_APPR_PROCESS_START       ORGANIZATION_TYPE  \\\n",
       "0                       WEDNESDAY  Business Entity Type 2   \n",
       "1                         TUESDAY                   Other   \n",
       "2                         TUESDAY  Business Entity Type 3   \n",
       "3                         TUESDAY  Business Entity Type 3   \n",
       "4                          MONDAY              Restaurant   \n",
       "...                           ...                     ...   \n",
       "246003                     MONDAY  Business Entity Type 3   \n",
       "246004                     MONDAY                Medicine   \n",
       "246005                     SUNDAY                     XNA   \n",
       "246006                  WEDNESDAY                     XNA   \n",
       "246007                     FRIDAY                     XNA   \n",
       "\n",
       "           FONDKAPREMONT_MODE  HOUSETYPE_MODE WALLSMATERIAL_MODE  \\\n",
       "0            reg oper account  block of flats              Panel   \n",
       "1                         NaN             NaN                NaN   \n",
       "2       reg oper spec account  block of flats              Panel   \n",
       "3                         NaN  block of flats              Block   \n",
       "4                         NaN             NaN                NaN   \n",
       "...                       ...             ...                ...   \n",
       "246003                    NaN             NaN                NaN   \n",
       "246004       reg oper account  block of flats              Panel   \n",
       "246005       reg oper account  block of flats              Mixed   \n",
       "246006                    NaN             NaN                NaN   \n",
       "246007                    NaN             NaN                NaN   \n",
       "\n",
       "       EMERGENCYSTATE_MODE  \n",
       "0                       No  \n",
       "1                      NaN  \n",
       "2                       No  \n",
       "3                       No  \n",
       "4                      NaN  \n",
       "...                    ...  \n",
       "246003                 NaN  \n",
       "246004                  No  \n",
       "246005                  No  \n",
       "246006                 NaN  \n",
       "246007                 NaN  \n",
       "\n",
       "[246008 rows x 16 columns]"
      ],
      "text/html": [
       "<div>\n",
       "<style scoped>\n",
       "    .dataframe tbody tr th:only-of-type {\n",
       "        vertical-align: middle;\n",
       "    }\n",
       "\n",
       "    .dataframe tbody tr th {\n",
       "        vertical-align: top;\n",
       "    }\n",
       "\n",
       "    .dataframe thead th {\n",
       "        text-align: right;\n",
       "    }\n",
       "</style>\n",
       "<table border=\"1\" class=\"dataframe\">\n",
       "  <thead>\n",
       "    <tr style=\"text-align: right;\">\n",
       "      <th></th>\n",
       "      <th>NAME_CONTRACT_TYPE</th>\n",
       "      <th>CODE_GENDER</th>\n",
       "      <th>FLAG_OWN_CAR</th>\n",
       "      <th>FLAG_OWN_REALTY</th>\n",
       "      <th>NAME_TYPE_SUITE</th>\n",
       "      <th>NAME_INCOME_TYPE</th>\n",
       "      <th>NAME_EDUCATION_TYPE</th>\n",
       "      <th>NAME_FAMILY_STATUS</th>\n",
       "      <th>NAME_HOUSING_TYPE</th>\n",
       "      <th>OCCUPATION_TYPE</th>\n",
       "      <th>WEEKDAY_APPR_PROCESS_START</th>\n",
       "      <th>ORGANIZATION_TYPE</th>\n",
       "      <th>FONDKAPREMONT_MODE</th>\n",
       "      <th>HOUSETYPE_MODE</th>\n",
       "      <th>WALLSMATERIAL_MODE</th>\n",
       "      <th>EMERGENCYSTATE_MODE</th>\n",
       "    </tr>\n",
       "  </thead>\n",
       "  <tbody>\n",
       "    <tr>\n",
       "      <th>0</th>\n",
       "      <td>Cash loans</td>\n",
       "      <td>F</td>\n",
       "      <td>N</td>\n",
       "      <td>N</td>\n",
       "      <td>Unaccompanied</td>\n",
       "      <td>Commercial associate</td>\n",
       "      <td>Higher education</td>\n",
       "      <td>Married</td>\n",
       "      <td>House / apartment</td>\n",
       "      <td>Laborers</td>\n",
       "      <td>WEDNESDAY</td>\n",
       "      <td>Business Entity Type 2</td>\n",
       "      <td>reg oper account</td>\n",
       "      <td>block of flats</td>\n",
       "      <td>Panel</td>\n",
       "      <td>No</td>\n",
       "    </tr>\n",
       "    <tr>\n",
       "      <th>1</th>\n",
       "      <td>Cash loans</td>\n",
       "      <td>M</td>\n",
       "      <td>Y</td>\n",
       "      <td>Y</td>\n",
       "      <td>Unaccompanied</td>\n",
       "      <td>Commercial associate</td>\n",
       "      <td>Secondary / secondary special</td>\n",
       "      <td>Married</td>\n",
       "      <td>House / apartment</td>\n",
       "      <td>Drivers</td>\n",
       "      <td>TUESDAY</td>\n",
       "      <td>Other</td>\n",
       "      <td>NaN</td>\n",
       "      <td>NaN</td>\n",
       "      <td>NaN</td>\n",
       "      <td>NaN</td>\n",
       "    </tr>\n",
       "    <tr>\n",
       "      <th>2</th>\n",
       "      <td>Cash loans</td>\n",
       "      <td>M</td>\n",
       "      <td>N</td>\n",
       "      <td>Y</td>\n",
       "      <td>Spouse, partner</td>\n",
       "      <td>Working</td>\n",
       "      <td>Secondary / secondary special</td>\n",
       "      <td>Single / not married</td>\n",
       "      <td>House / apartment</td>\n",
       "      <td>Laborers</td>\n",
       "      <td>TUESDAY</td>\n",
       "      <td>Business Entity Type 3</td>\n",
       "      <td>reg oper spec account</td>\n",
       "      <td>block of flats</td>\n",
       "      <td>Panel</td>\n",
       "      <td>No</td>\n",
       "    </tr>\n",
       "    <tr>\n",
       "      <th>3</th>\n",
       "      <td>Cash loans</td>\n",
       "      <td>M</td>\n",
       "      <td>N</td>\n",
       "      <td>N</td>\n",
       "      <td>Unaccompanied</td>\n",
       "      <td>Commercial associate</td>\n",
       "      <td>Secondary / secondary special</td>\n",
       "      <td>Single / not married</td>\n",
       "      <td>House / apartment</td>\n",
       "      <td>Laborers</td>\n",
       "      <td>TUESDAY</td>\n",
       "      <td>Business Entity Type 3</td>\n",
       "      <td>NaN</td>\n",
       "      <td>block of flats</td>\n",
       "      <td>Block</td>\n",
       "      <td>No</td>\n",
       "    </tr>\n",
       "    <tr>\n",
       "      <th>4</th>\n",
       "      <td>Cash loans</td>\n",
       "      <td>F</td>\n",
       "      <td>N</td>\n",
       "      <td>Y</td>\n",
       "      <td>Unaccompanied</td>\n",
       "      <td>Commercial associate</td>\n",
       "      <td>Incomplete higher</td>\n",
       "      <td>Single / not married</td>\n",
       "      <td>House / apartment</td>\n",
       "      <td>Accountants</td>\n",
       "      <td>MONDAY</td>\n",
       "      <td>Restaurant</td>\n",
       "      <td>NaN</td>\n",
       "      <td>NaN</td>\n",
       "      <td>NaN</td>\n",
       "      <td>NaN</td>\n",
       "    </tr>\n",
       "    <tr>\n",
       "      <th>...</th>\n",
       "      <td>...</td>\n",
       "      <td>...</td>\n",
       "      <td>...</td>\n",
       "      <td>...</td>\n",
       "      <td>...</td>\n",
       "      <td>...</td>\n",
       "      <td>...</td>\n",
       "      <td>...</td>\n",
       "      <td>...</td>\n",
       "      <td>...</td>\n",
       "      <td>...</td>\n",
       "      <td>...</td>\n",
       "      <td>...</td>\n",
       "      <td>...</td>\n",
       "      <td>...</td>\n",
       "      <td>...</td>\n",
       "    </tr>\n",
       "    <tr>\n",
       "      <th>246003</th>\n",
       "      <td>Revolving loans</td>\n",
       "      <td>F</td>\n",
       "      <td>N</td>\n",
       "      <td>Y</td>\n",
       "      <td>Unaccompanied</td>\n",
       "      <td>Commercial associate</td>\n",
       "      <td>Secondary / secondary special</td>\n",
       "      <td>Married</td>\n",
       "      <td>House / apartment</td>\n",
       "      <td>Sales staff</td>\n",
       "      <td>MONDAY</td>\n",
       "      <td>Business Entity Type 3</td>\n",
       "      <td>NaN</td>\n",
       "      <td>NaN</td>\n",
       "      <td>NaN</td>\n",
       "      <td>NaN</td>\n",
       "    </tr>\n",
       "    <tr>\n",
       "      <th>246004</th>\n",
       "      <td>Cash loans</td>\n",
       "      <td>F</td>\n",
       "      <td>N</td>\n",
       "      <td>N</td>\n",
       "      <td>Unaccompanied</td>\n",
       "      <td>State servant</td>\n",
       "      <td>Secondary / secondary special</td>\n",
       "      <td>Single / not married</td>\n",
       "      <td>House / apartment</td>\n",
       "      <td>Secretaries</td>\n",
       "      <td>MONDAY</td>\n",
       "      <td>Medicine</td>\n",
       "      <td>reg oper account</td>\n",
       "      <td>block of flats</td>\n",
       "      <td>Panel</td>\n",
       "      <td>No</td>\n",
       "    </tr>\n",
       "    <tr>\n",
       "      <th>246005</th>\n",
       "      <td>Cash loans</td>\n",
       "      <td>F</td>\n",
       "      <td>N</td>\n",
       "      <td>N</td>\n",
       "      <td>Unaccompanied</td>\n",
       "      <td>Pensioner</td>\n",
       "      <td>Secondary / secondary special</td>\n",
       "      <td>Civil marriage</td>\n",
       "      <td>House / apartment</td>\n",
       "      <td>NaN</td>\n",
       "      <td>SUNDAY</td>\n",
       "      <td>XNA</td>\n",
       "      <td>reg oper account</td>\n",
       "      <td>block of flats</td>\n",
       "      <td>Mixed</td>\n",
       "      <td>No</td>\n",
       "    </tr>\n",
       "    <tr>\n",
       "      <th>246006</th>\n",
       "      <td>Cash loans</td>\n",
       "      <td>F</td>\n",
       "      <td>N</td>\n",
       "      <td>Y</td>\n",
       "      <td>Children</td>\n",
       "      <td>Pensioner</td>\n",
       "      <td>Secondary / secondary special</td>\n",
       "      <td>Married</td>\n",
       "      <td>House / apartment</td>\n",
       "      <td>NaN</td>\n",
       "      <td>WEDNESDAY</td>\n",
       "      <td>XNA</td>\n",
       "      <td>NaN</td>\n",
       "      <td>NaN</td>\n",
       "      <td>NaN</td>\n",
       "      <td>NaN</td>\n",
       "    </tr>\n",
       "    <tr>\n",
       "      <th>246007</th>\n",
       "      <td>Cash loans</td>\n",
       "      <td>F</td>\n",
       "      <td>Y</td>\n",
       "      <td>Y</td>\n",
       "      <td>Family</td>\n",
       "      <td>Pensioner</td>\n",
       "      <td>Secondary / secondary special</td>\n",
       "      <td>Married</td>\n",
       "      <td>House / apartment</td>\n",
       "      <td>NaN</td>\n",
       "      <td>FRIDAY</td>\n",
       "      <td>XNA</td>\n",
       "      <td>NaN</td>\n",
       "      <td>NaN</td>\n",
       "      <td>NaN</td>\n",
       "      <td>NaN</td>\n",
       "    </tr>\n",
       "  </tbody>\n",
       "</table>\n",
       "<p>246008 rows × 16 columns</p>\n",
       "</div>"
      ]
     },
     "execution_count": 9,
     "metadata": {},
     "output_type": "execute_result"
    }
   ],
   "execution_count": 9
  },
  {
   "metadata": {
    "ExecuteTime": {
     "end_time": "2024-12-09T15:43:00.606315Z",
     "start_time": "2024-12-09T15:43:00.495688Z"
    }
   },
   "cell_type": "code",
   "source": [
    "for column in columns:\n",
    "    unique_values = data[column].unique()\n",
    "    display(unique_values)"
   ],
   "id": "3e6d5ab55b74ccc5",
   "outputs": [
    {
     "data": {
      "text/plain": [
       "array(['Cash loans', 'Revolving loans'], dtype=object)"
      ]
     },
     "metadata": {},
     "output_type": "display_data"
    },
    {
     "data": {
      "text/plain": [
       "array(['F', 'M', 'XNA'], dtype=object)"
      ]
     },
     "metadata": {},
     "output_type": "display_data"
    },
    {
     "data": {
      "text/plain": [
       "array(['N', 'Y'], dtype=object)"
      ]
     },
     "metadata": {},
     "output_type": "display_data"
    },
    {
     "data": {
      "text/plain": [
       "array(['N', 'Y'], dtype=object)"
      ]
     },
     "metadata": {},
     "output_type": "display_data"
    },
    {
     "data": {
      "text/plain": [
       "array(['Unaccompanied', 'Spouse, partner', 'Family', 'Other_B', nan,\n",
       "       'Children', 'Group of people', 'Other_A'], dtype=object)"
      ]
     },
     "metadata": {},
     "output_type": "display_data"
    },
    {
     "data": {
      "text/plain": [
       "array(['Commercial associate', 'Working', 'Pensioner', 'State servant',\n",
       "       'Businessman', 'Unemployed', 'Student', 'Maternity leave'],\n",
       "      dtype=object)"
      ]
     },
     "metadata": {},
     "output_type": "display_data"
    },
    {
     "data": {
      "text/plain": [
       "array(['Higher education', 'Secondary / secondary special',\n",
       "       'Incomplete higher', 'Lower secondary', 'Academic degree'],\n",
       "      dtype=object)"
      ]
     },
     "metadata": {},
     "output_type": "display_data"
    },
    {
     "data": {
      "text/plain": [
       "array(['Married', 'Single / not married', 'Civil marriage', 'Separated',\n",
       "       'Widow', 'Unknown'], dtype=object)"
      ]
     },
     "metadata": {},
     "output_type": "display_data"
    },
    {
     "data": {
      "text/plain": [
       "array(['House / apartment', 'Municipal apartment', 'With parents',\n",
       "       'Rented apartment', 'Co-op apartment', 'Office apartment'],\n",
       "      dtype=object)"
      ]
     },
     "metadata": {},
     "output_type": "display_data"
    },
    {
     "data": {
      "text/plain": [
       "array(['Laborers', 'Drivers', 'Accountants', nan, 'Sales staff',\n",
       "       'High skill tech staff', 'Medicine staff', 'Core staff',\n",
       "       'Security staff', 'Managers', 'Waiters/barmen staff',\n",
       "       'Private service staff', 'Cooking staff', 'Low-skill Laborers',\n",
       "       'IT staff', 'Realty agents', 'HR staff', 'Secretaries',\n",
       "       'Cleaning staff'], dtype=object)"
      ]
     },
     "metadata": {},
     "output_type": "display_data"
    },
    {
     "data": {
      "text/plain": [
       "array(['WEDNESDAY', 'TUESDAY', 'MONDAY', 'THURSDAY', 'FRIDAY', 'SATURDAY',\n",
       "       'SUNDAY'], dtype=object)"
      ]
     },
     "metadata": {},
     "output_type": "display_data"
    },
    {
     "data": {
      "text/plain": [
       "array(['Business Entity Type 2', 'Other', 'Business Entity Type 3',\n",
       "       'Restaurant', 'XNA', 'Transport: type 3', 'Self-employed',\n",
       "       'Agriculture', 'Government', 'Industry: type 3', 'Medicine',\n",
       "       'University', 'School', 'Transport: type 4', 'Security',\n",
       "       'Electricity', 'Trade: type 2', 'Transport: type 2',\n",
       "       'Industry: type 9', 'Construction', 'Industry: type 11',\n",
       "       'Legal Services', 'Military', 'Kindergarten', 'Industry: type 12',\n",
       "       'Business Entity Type 1', 'Police', 'Housing', 'Bank',\n",
       "       'Industry: type 7', 'Telecom', 'Industry: type 2', 'Trade: type 7',\n",
       "       'Security Ministries', 'Trade: type 3', 'Trade: type 6', 'Postal',\n",
       "       'Services', 'Advertising', 'Hotel', 'Industry: type 4',\n",
       "       'Insurance', 'Industry: type 1', 'Industry: type 5', 'Emergency',\n",
       "       'Realtor', 'Mobile', 'Industry: type 10', 'Culture', 'Cleaning',\n",
       "       'Trade: type 1', 'Industry: type 6', 'Trade: type 4',\n",
       "       'Transport: type 1', 'Religion', 'Industry: type 13',\n",
       "       'Trade: type 5', 'Industry: type 8'], dtype=object)"
      ]
     },
     "metadata": {},
     "output_type": "display_data"
    },
    {
     "data": {
      "text/plain": [
       "array(['reg oper account', nan, 'reg oper spec account',\n",
       "       'org spec account', 'not specified'], dtype=object)"
      ]
     },
     "metadata": {},
     "output_type": "display_data"
    },
    {
     "data": {
      "text/plain": [
       "array(['block of flats', nan, 'specific housing', 'terraced house'],\n",
       "      dtype=object)"
      ]
     },
     "metadata": {},
     "output_type": "display_data"
    },
    {
     "data": {
      "text/plain": [
       "array(['Panel', nan, 'Block', 'Stone, brick', 'Mixed', 'Others', 'Wooden',\n",
       "       'Monolithic'], dtype=object)"
      ]
     },
     "metadata": {},
     "output_type": "display_data"
    },
    {
     "data": {
      "text/plain": [
       "array(['No', nan, 'Yes'], dtype=object)"
      ]
     },
     "metadata": {},
     "output_type": "display_data"
    }
   ],
   "execution_count": 15
  },
  {
   "metadata": {},
   "cell_type": "markdown",
   "source": [
    "The columns contain several different types of information. <br>\n",
    "1. Columns Suitable for One-Hot Encoding:\n",
    "    1. 'F', 'M', 'XNA': Gender.\n",
    "    2. 'WEDNESDAY', 'TUESDAY', ..., 'SUNDAY': Days of the week.\n",
    "    3. 'House / apartment', 'Municipal apartment', ...: Housing type.\n",
    "    4. 'Panel', 'Block', 'Stone, brick', ...: Building type.\n",
    "    5. 'block of flats', ..., 'terraced house': Housing type.\n",
    "1. Columns Suitable for Ordinal Encoding:\n",
    "    1. 'Higher education', 'Secondary / secondary special', ...: Education level.\n",
    "    2. 'Married', 'Single / not married', ...: Marital status (an order\n",
    "    like \"Single < Married < Widow\").\n",
    "1. Columns Suitable for Frequency or Target Encoding:\n",
    "    1. 'Laborers', 'Drivers', ..., 'Cleaning staff': Occupation (many unique\n",
    "values).\n",
    "    2. 'Business Entity Type 2', ..., 'Industry: type 8': Industry or business\n",
    "type (large number of categories).\n",
    "1. Columns Suitable for Binary Encoding:\n",
    "    1. 'N', 'Y'\n",
    "    2. 'No', 'Yes'"
   ],
   "id": "fdf852e0071587a3"
  },
  {
   "metadata": {},
   "cell_type": "markdown",
   "source": "## 3.2. Missing Values",
   "id": "68715cbd61e8e521"
  },
  {
   "metadata": {
    "ExecuteTime": {
     "end_time": "2024-12-09T18:13:28.678456Z",
     "start_time": "2024-12-09T18:13:27.274478Z"
    }
   },
   "cell_type": "code",
   "source": [
    "missing_df = missing_values(data).sort_values(by=['Percentage Missing'],\n",
    "                                     ascending=False)\n",
    "missing_df"
   ],
   "id": "447f7788baf28dac",
   "outputs": [
    {
     "data": {
      "text/plain": [
       "                                                    Missing Values  \\\n",
       "previous_application_RATE_INTEREST_PRIMARY_min              242323   \n",
       "previous_application_RATE_INTEREST_PRIMARY_max              242323   \n",
       "previous_application_RATE_INTEREST_PRIVILEGED_mean          242323   \n",
       "previous_application_RATE_INTEREST_PRIVILEGED_min           242323   \n",
       "previous_application_RATE_INTEREST_PRIVILEGED_max           242323   \n",
       "...                                                            ...   \n",
       "REG_CITY_NOT_WORK_CITY                                           0   \n",
       "REG_CITY_NOT_LIVE_CITY                                           0   \n",
       "LIVE_REGION_NOT_WORK_REGION                                      0   \n",
       "REG_REGION_NOT_WORK_REGION                                       0   \n",
       "SK_ID_CURR                                                       0   \n",
       "\n",
       "                                                    Percentage Missing  \\\n",
       "previous_application_RATE_INTEREST_PRIMARY_min                    98.5   \n",
       "previous_application_RATE_INTEREST_PRIMARY_max                    98.5   \n",
       "previous_application_RATE_INTEREST_PRIVILEGED_mean                98.5   \n",
       "previous_application_RATE_INTEREST_PRIVILEGED_min                 98.5   \n",
       "previous_application_RATE_INTEREST_PRIVILEGED_max                 98.5   \n",
       "...                                                                ...   \n",
       "REG_CITY_NOT_WORK_CITY                                             0.0   \n",
       "REG_CITY_NOT_LIVE_CITY                                             0.0   \n",
       "LIVE_REGION_NOT_WORK_REGION                                        0.0   \n",
       "REG_REGION_NOT_WORK_REGION                                         0.0   \n",
       "SK_ID_CURR                                                         0.0   \n",
       "\n",
       "                                                   Datatype  \n",
       "previous_application_RATE_INTEREST_PRIMARY_min      float64  \n",
       "previous_application_RATE_INTEREST_PRIMARY_max      float64  \n",
       "previous_application_RATE_INTEREST_PRIVILEGED_mean  float64  \n",
       "previous_application_RATE_INTEREST_PRIVILEGED_min   float64  \n",
       "previous_application_RATE_INTEREST_PRIVILEGED_max   float64  \n",
       "...                                                     ...  \n",
       "REG_CITY_NOT_WORK_CITY                                int64  \n",
       "REG_CITY_NOT_LIVE_CITY                                int64  \n",
       "LIVE_REGION_NOT_WORK_REGION                           int64  \n",
       "REG_REGION_NOT_WORK_REGION                            int64  \n",
       "SK_ID_CURR                                            int64  \n",
       "\n",
       "[1791 rows x 3 columns]"
      ],
      "text/html": [
       "<div>\n",
       "<style scoped>\n",
       "    .dataframe tbody tr th:only-of-type {\n",
       "        vertical-align: middle;\n",
       "    }\n",
       "\n",
       "    .dataframe tbody tr th {\n",
       "        vertical-align: top;\n",
       "    }\n",
       "\n",
       "    .dataframe thead th {\n",
       "        text-align: right;\n",
       "    }\n",
       "</style>\n",
       "<table border=\"1\" class=\"dataframe\">\n",
       "  <thead>\n",
       "    <tr style=\"text-align: right;\">\n",
       "      <th></th>\n",
       "      <th>Missing Values</th>\n",
       "      <th>Percentage Missing</th>\n",
       "      <th>Datatype</th>\n",
       "    </tr>\n",
       "  </thead>\n",
       "  <tbody>\n",
       "    <tr>\n",
       "      <th>previous_application_RATE_INTEREST_PRIMARY_min</th>\n",
       "      <td>242323</td>\n",
       "      <td>98.5</td>\n",
       "      <td>float64</td>\n",
       "    </tr>\n",
       "    <tr>\n",
       "      <th>previous_application_RATE_INTEREST_PRIMARY_max</th>\n",
       "      <td>242323</td>\n",
       "      <td>98.5</td>\n",
       "      <td>float64</td>\n",
       "    </tr>\n",
       "    <tr>\n",
       "      <th>previous_application_RATE_INTEREST_PRIVILEGED_mean</th>\n",
       "      <td>242323</td>\n",
       "      <td>98.5</td>\n",
       "      <td>float64</td>\n",
       "    </tr>\n",
       "    <tr>\n",
       "      <th>previous_application_RATE_INTEREST_PRIVILEGED_min</th>\n",
       "      <td>242323</td>\n",
       "      <td>98.5</td>\n",
       "      <td>float64</td>\n",
       "    </tr>\n",
       "    <tr>\n",
       "      <th>previous_application_RATE_INTEREST_PRIVILEGED_max</th>\n",
       "      <td>242323</td>\n",
       "      <td>98.5</td>\n",
       "      <td>float64</td>\n",
       "    </tr>\n",
       "    <tr>\n",
       "      <th>...</th>\n",
       "      <td>...</td>\n",
       "      <td>...</td>\n",
       "      <td>...</td>\n",
       "    </tr>\n",
       "    <tr>\n",
       "      <th>REG_CITY_NOT_WORK_CITY</th>\n",
       "      <td>0</td>\n",
       "      <td>0.0</td>\n",
       "      <td>int64</td>\n",
       "    </tr>\n",
       "    <tr>\n",
       "      <th>REG_CITY_NOT_LIVE_CITY</th>\n",
       "      <td>0</td>\n",
       "      <td>0.0</td>\n",
       "      <td>int64</td>\n",
       "    </tr>\n",
       "    <tr>\n",
       "      <th>LIVE_REGION_NOT_WORK_REGION</th>\n",
       "      <td>0</td>\n",
       "      <td>0.0</td>\n",
       "      <td>int64</td>\n",
       "    </tr>\n",
       "    <tr>\n",
       "      <th>REG_REGION_NOT_WORK_REGION</th>\n",
       "      <td>0</td>\n",
       "      <td>0.0</td>\n",
       "      <td>int64</td>\n",
       "    </tr>\n",
       "    <tr>\n",
       "      <th>SK_ID_CURR</th>\n",
       "      <td>0</td>\n",
       "      <td>0.0</td>\n",
       "      <td>int64</td>\n",
       "    </tr>\n",
       "  </tbody>\n",
       "</table>\n",
       "<p>1791 rows × 3 columns</p>\n",
       "</div>"
      ]
     },
     "execution_count": 19,
     "metadata": {},
     "output_type": "execute_result"
    }
   ],
   "execution_count": 19
  },
  {
   "metadata": {},
   "cell_type": "markdown",
   "source": [
    "Now having all the columns combined in one dataframe, it is clearer to\n",
    "decide what to do with each column. Our data has missing values % ranging\n",
    "from 98.5% to 0%. Consider the categorization below: <br>\n",
    "1. Low Missing Values (<20-30%): <br>\n",
    "Action: Impute the missing values or leave it as is (for tree based models)\n",
    "2. Moderate Missing Values (30-70%):<br>\n",
    "Action: Impute or drop depending on the context\n",
    "3. High Missing Values (>80%):<br>\n",
    "Action: Drop the column"
   ],
   "id": "47065cedc78d789c"
  },
  {
   "metadata": {
    "ExecuteTime": {
     "end_time": "2024-12-09T18:22:10.253483Z",
     "start_time": "2024-12-09T18:22:10.176063Z"
    }
   },
   "cell_type": "code",
   "source": "sns.histplot(data=missing_df, y='Percentage Missing', kde=True, bins=30)",
   "id": "f8b4702ee184429c",
   "outputs": [
    {
     "data": {
      "text/plain": [
       "<Axes: xlabel='Count', ylabel='Percentage Missing'>"
      ]
     },
     "execution_count": 25,
     "metadata": {},
     "output_type": "execute_result"
    },
    {
     "data": {
      "text/plain": [
       "<Figure size 640x480 with 1 Axes>"
      ],
      "image/png": "[encoded data removed]"
     },
     "metadata": {},
     "output_type": "display_data"
    }
   ],
   "execution_count": 25
  },
  {
   "metadata": {},
   "cell_type": "markdown",
   "source": [
    "Looking into the distribution of columns' percentage of missing values,\n",
    "columns can be put into 2 groups. <br>\n",
    "As expected most columns with high missing values are coming from the\n",
    "bureau_balance and credit_card_balance tables, as these had the least\n",
    "SK_ID_CURR correspondences. Also, a few columns from previous_application\n",
    "and bureau."
   ],
   "id": "6d997af23cb22339"
  },
  {
   "metadata": {},
   "cell_type": "code",
   "outputs": [],
   "execution_count": null,
   "source": "",
   "id": "e8f88eceba2b7597"
  }
 ],
 "metadata": {
  "kernelspec": {
   "display_name": "Python 3",
   "language": "python",
   "name": "python3"
  },
  "language_info": {
   "codemirror_mode": {
    "name": "ipython",
    "version": 2
   },
   "file_extension": ".py",
   "mimetype": "text/x-python",
   "name": "python",
   "nbconvert_exporter": "python",
   "pygments_lexer": "ipython2",
   "version": "2.7.6"
  }
 },
 "nbformat": 4,
 "nbformat_minor": 5
}
