{
 "cells": [
  {
   "metadata": {},
   "cell_type": "markdown",
   "source": [
    "<h1><center>Home Credit Risk Prediction</center></h1>\n",
    "<center> - sections 5/6/7/8 - </center>\n",
    "<center>December 2024</center>\n",
    "<center>Celine Ng</center>"
   ],
   "id": "78ba489164b3f73"
  },
  {
   "metadata": {},
   "cell_type": "markdown",
   "source": [
    "# Table of Contents\n",
    "\n",
    "1. Project Introduction\n",
    "    1. Notebook Preparation\n",
    "    1. Data loading\n",
    "1. Main Data Preparation\n",
    "    1. Data cleaning\n",
    "    1. Dataframes and keys\n",
    "    1. Train Test Split\n",
    "    1. Quick EDA\n",
    "        1. Keys present in each table\n",
    "        1. Distribution\n",
    "    1. Aggregation\n",
    "1. Initial Data Cleaning\n",
    "    1. Datatypes\n",
    "    1. Missing values\n",
    "1. EDA\n",
    "    1. Original Application Table Distribution\n",
    "    1. Correlation\n",
    "    1. Statistical Inference\n",
    "1. Data Preprocessing\n",
    "1. Feature Selection\n",
    "    1. All features included\n",
    "    1. Mutual Information\n",
    "    1. PCA\n",
    "1. Models\n",
    "    1. Baseline model\n",
    "    1. Basic model\n",
    "    1. Hyperparameter Tuning\n",
    "    1. Test Data\n",
    "    1. Final Model\n",
    "    1. Deployment\n",
    "    1. Model Interpretation\n",
    "1. Improvements"
   ],
   "id": "4c602a1487fda1b7"
  },
  {
   "metadata": {
    "ExecuteTime": {
     "end_time": "2024-12-26T16:41:43.266737Z",
     "start_time": "2024-12-26T16:41:42.863707Z"
    }
   },
   "cell_type": "code",
   "source": [
    "%%capture\n",
    "%pip install -r requirements.txt"
   ],
   "id": "c0c55f5bb729c08e",
   "outputs": [],
   "execution_count": 1
  },
  {
   "metadata": {
    "ExecuteTime": {
     "end_time": "2024-12-26T16:41:44.570094Z",
     "start_time": "2024-12-26T16:41:43.271192Z"
    }
   },
   "cell_type": "code",
   "source": [
    "import numpy as np\n",
    "import pandas as pd\n",
    "import matplotlib.pyplot as plt\n",
    "import pickle as pkl\n",
    "import os\n",
    "\n",
    "from utils.eda import *\n",
    "from utils.stats import *\n",
    "from utils.custom_preprocessor import *\n",
    "from utils.model import *\n",
    "\n",
    "from sklearn.compose import make_column_selector as selector\n",
    "from sklearn.preprocessing import (OrdinalEncoder, FunctionTransformer)\n",
    "from sklearn.compose import ColumnTransformer\n",
    "from sklearn.pipeline import Pipeline\n",
    "from sklearn.metrics import classification_report, roc_auc_score\n",
    "from sklearn.model_selection import cross_val_score, StratifiedKFold\n",
    "\n",
    "import xgboost as xgb\n",
    "import optuna\n",
    "from scipy.sparse import csr_matrix\n",
    "import shap"
   ],
   "id": "9b64959afe0fe948",
   "outputs": [
    {
     "name": "stderr",
     "output_type": "stream",
     "text": [
      "/Users/celineng/PycharmProjects/chilng-DS.v2.5.3.4.1/.venv/lib/python3.12/site-packages/tqdm/auto.py:21: TqdmWarning: IProgress not found. Please update jupyter and ipywidgets. See https://ipywidgets.readthedocs.io/en/stable/user_install.html\n",
      "  from .autonotebook import tqdm as notebook_tqdm\n"
     ]
    }
   ],
   "execution_count": 2
  },
  {
   "metadata": {},
   "cell_type": "markdown",
   "source": "***",
   "id": "a18c2c31f8ff1e5b"
  },
  {
   "metadata": {},
   "cell_type": "markdown",
   "source": "# Variables & Data from previous Notebooks",
   "id": "7df7e0f2b434c31d"
  },
  {
   "metadata": {},
   "cell_type": "markdown",
   "source": "Load aggregated main table",
   "id": "4ad9788b95690c1b"
  },
  {
   "metadata": {
    "ExecuteTime": {
     "end_time": "2024-12-26T16:41:45.657747Z",
     "start_time": "2024-12-26T16:41:44.621713Z"
    }
   },
   "cell_type": "code",
   "source": [
    "project_root = os.path.abspath(os.path.join(os.getcwd(), \"..\"))\n",
    "folder = os.path.join(project_root, \"aggregated_data\")\n",
    "data_path = os.path.join(folder, \"data_merged.pkl\")\n",
    "data = pd.read_pickle(data_path)"
   ],
   "id": "d52254fc3cfecf66",
   "outputs": [],
   "execution_count": 3
  },
  {
   "metadata": {},
   "cell_type": "markdown",
   "source": "Define variables",
   "id": "9a0cdb6527d4420e"
  },
  {
   "metadata": {
    "ExecuteTime": {
     "end_time": "2024-12-26T16:41:45.677528Z",
     "start_time": "2024-12-26T16:41:45.674414Z"
    }
   },
   "cell_type": "code",
   "source": [
    "target = 'TARGET'\n",
    "binary_columns =['FLAG_MOBIL', 'FLAG_EMP_PHONE', 'FLAG_WORK_PHONE',\n",
    "                 'FLAG_CONT_MOBILE', 'FLAG_PHONE', 'FLAG_EMAIL', 'REG_REGION_NOT_LIVE_REGION', 'REG_REGION_NOT_WORK_REGION', 'LIVE_REGION_NOT_WORK_REGION', 'REG_CITY_NOT_LIVE_CITY', 'REG_CITY_NOT_WORK_CITY', 'LIVE_CITY_NOT_WORK_CITY', 'FLAG_DOCUMENT_2', 'FLAG_DOCUMENT_3', 'FLAG_DOCUMENT_4', 'FLAG_DOCUMENT_5', 'FLAG_DOCUMENT_6', 'FLAG_DOCUMENT_7', 'FLAG_DOCUMENT_8', 'FLAG_DOCUMENT_9', 'FLAG_DOCUMENT_10', 'FLAG_DOCUMENT_11', 'FLAG_DOCUMENT_12', 'FLAG_DOCUMENT_13', 'FLAG_DOCUMENT_14', 'FLAG_DOCUMENT_15', 'FLAG_DOCUMENT_16', 'FLAG_DOCUMENT_17', 'FLAG_DOCUMENT_18', 'FLAG_DOCUMENT_19', 'FLAG_DOCUMENT_20', 'FLAG_DOCUMENT_21', 'EMERGENCYSTATE_MODE', 'FLAG_OWN_CAR', 'FLAG_OWN_REALTY', 'CODE_GENDER']\n",
    "categorical_columns = ['NAME_CONTRACT_TYPE', 'NAME_TYPE_SUITE', 'NAME_INCOME_TYPE', 'NAME_EDUCATION_TYPE', 'NAME_FAMILY_STATUS', 'NAME_HOUSING_TYPE', 'OCCUPATION_TYPE', 'WEEKDAY_APPR_PROCESS_START', 'ORGANIZATION_TYPE', 'FONDKAPREMONT_MODE', 'HOUSETYPE_MODE', 'WALLSMATERIAL_MODE']"
   ],
   "id": "db06130cd92e4610",
   "outputs": [],
   "execution_count": 4
  },
  {
   "metadata": {},
   "cell_type": "markdown",
   "source": "***",
   "id": "21d9067b8a9ff261"
  },
  {
   "metadata": {},
   "cell_type": "markdown",
   "source": "# 5. Data Preprocessing",
   "id": "fe3585240f7a5188"
  },
  {
   "metadata": {},
   "cell_type": "markdown",
   "source": "Separate data and target",
   "id": "96f7fa85e815f927"
  },
  {
   "cell_type": "code",
   "id": "initial_id",
   "metadata": {
    "collapsed": true,
    "ExecuteTime": {
     "end_time": "2024-12-26T16:41:50.214441Z",
     "start_time": "2024-12-26T16:41:45.686902Z"
    }
   },
   "source": [
    "ml_data = data.copy()\n",
    "ml_data_sample = ml_data.sample(n=10, random_state=42)\n",
    "\n",
    "X, y = (ml_data.drop(columns=[target]).copy(),\n",
    "        ml_data[target].reset_index(drop=True))\n",
    "\n",
    "X_sample, _, y_sample, _ = train_test_split(\n",
    "    X, y, train_size=0.5, random_state=42, stratify=y\n",
    ")"
   ],
   "outputs": [],
   "execution_count": 5
  },
  {
   "metadata": {},
   "cell_type": "markdown",
   "source": "**Define columns**",
   "id": "31364f5fe7dfa98b"
  },
  {
   "metadata": {
    "ExecuteTime": {
     "end_time": "2024-12-26T16:41:50.229684Z",
     "start_time": "2024-12-26T16:41:50.226336Z"
    }
   },
   "cell_type": "code",
   "source": [
    "numerical_binary_columns = (ml_data_sample[binary_columns].select_dtypes\n",
    "                            (include='number'))\n",
    "object_binary_columns = [col for col in binary_columns if col not in numerical_binary_columns]"
   ],
   "id": "20315253f5b851d0",
   "outputs": [],
   "execution_count": 6
  },
  {
   "metadata": {},
   "cell_type": "markdown",
   "source": "**Define Preprocessors**",
   "id": "c9894d2815747f9e"
  },
  {
   "metadata": {
    "ExecuteTime": {
     "end_time": "2024-12-26T16:41:50.245155Z",
     "start_time": "2024-12-26T16:41:50.243529Z"
    }
   },
   "cell_type": "code",
   "source": [
    "preprocessor_encode = ColumnTransformer(\n",
    "    transformers=[\n",
    "        ('binary_encode', OrdinalEncoder(), object_binary_columns),\n",
    "        ('freq_encode', FrequencyEncoder(), categorical_columns),\n",
    "    ],\n",
    "    remainder='passthrough',\n",
    "    verbose_feature_names_out=False\n",
    ")"
   ],
   "id": "2b6a5f6988a03141",
   "outputs": [],
   "execution_count": 7
  },
  {
   "metadata": {},
   "cell_type": "markdown",
   "source": "Pipeline for now, as other steps are completed without pipeline already",
   "id": "1f8287073554e24d"
  },
  {
   "metadata": {
    "ExecuteTime": {
     "end_time": "2024-12-26T16:41:50.260823Z",
     "start_time": "2024-12-26T16:41:50.258944Z"
    }
   },
   "cell_type": "code",
   "source": [
    "preprocessing_pipeline = Pipeline(steps=[\n",
    "    ('preprocessor', preprocessor_encode)\n",
    "])"
   ],
   "id": "5cf30e00fdbaa8f9",
   "outputs": [],
   "execution_count": 8
  },
  {
   "metadata": {},
   "cell_type": "markdown",
   "source": [
    "# 6. Feature Engineering\n",
    "Objective: Check baseline model (before new features), and compare to model\n",
    "after new features"
   ],
   "id": "4fe71c48eeb05bc3"
  },
  {
   "metadata": {},
   "cell_type": "markdown",
   "source": [
    "## 6.1. Baseline model\n",
    "Without new features (BUREAU_ID, PREV_ID, etc.)"
   ],
   "id": "6e03090976276ec4"
  },
  {
   "metadata": {},
   "cell_type": "markdown",
   "source": [
    "Split data set into train and validation, as test\n",
    "is already prepared."
   ],
   "id": "a1dc714e289403cf"
  },
  {
   "metadata": {
    "ExecuteTime": {
     "end_time": "2024-12-26T16:41:52.272845Z",
     "start_time": "2024-12-26T16:41:50.274970Z"
    }
   },
   "cell_type": "code",
   "source": [
    "X_train, X_eval, y_train, y_eval = train_test_split(\n",
    "    X_sample, y_sample, test_size=0.2, random_state=0, stratify=y_sample\n",
    ")\n",
    "\n",
    "X_train_tf = pd.DataFrame(\n",
    "    preprocessor_encode.fit_transform(X_train, y_train),\n",
    "    columns=preprocessor_encode.get_feature_names_out(),\n",
    ")\n",
    "X_eval_tf = pd.DataFrame(\n",
    "    preprocessor_encode.transform(X_eval), columns=preprocessor_encode.get_feature_names_out()\n",
    ")"
   ],
   "id": "eb35aba1fc732ad5",
   "outputs": [],
   "execution_count": 9
  },
  {
   "metadata": {
    "ExecuteTime": {
     "end_time": "2024-12-26T16:42:31.248188Z",
     "start_time": "2024-12-26T16:41:52.314476Z"
    }
   },
   "cell_type": "code",
   "source": [
    "num_negative = (y_train == 0).sum()\n",
    "num_positive = (y_train == 1).sum()\n",
    "\n",
    "scale_pos_weight = num_negative / num_positive\n",
    "\n",
    "clf_xgb = xgb.XGBClassifier(objective='binary:logistic', random_state=42,\n",
    "                            scale_pos_weight=scale_pos_weight)\n",
    "\n",
    "clf_xgb.fit(\n",
    "    X_train_tf, y_train,\n",
    "    eval_set=[(X_eval_tf, y_eval)],\n",
    "    verbose=False\n",
    ")\n",
    "\n",
    "y_pred = clf_xgb.predict(X_eval_tf)\n",
    "y_prob = clf_xgb.predict_proba(X_eval_tf)[:, 1]\n",
    "\n",
    "evaluation_metrics = {\n",
    "    'accuracy': accuracy_score(y_eval, y_pred),\n",
    "    'roc_auc': roc_auc_score(y_eval, y_prob),\n",
    "    'precision': precision_score(y_eval, y_pred, zero_division=0),\n",
    "    'recall': recall_score(y_eval, y_pred, zero_division=0),\n",
    "    'f1': f1_score(y_eval, y_pred, zero_division=0)\n",
    "}\n",
    "\n",
    "evaluation_df = pd.DataFrame(evaluation_metrics, index=['Evaluation'])\n",
    "evaluation_df"
   ],
   "id": "bb097f4adf27c3f6",
   "outputs": [
    {
     "data": {
      "text/plain": [
       "            accuracy  roc_auc  precision    recall       f1\n",
       "Evaluation  0.810617  0.73299   0.208379  0.480866  0.29076"
      ],
      "text/html": [
       "<div>\n",
       "<style scoped>\n",
       "    .dataframe tbody tr th:only-of-type {\n",
       "        vertical-align: middle;\n",
       "    }\n",
       "\n",
       "    .dataframe tbody tr th {\n",
       "        vertical-align: top;\n",
       "    }\n",
       "\n",
       "    .dataframe thead th {\n",
       "        text-align: right;\n",
       "    }\n",
       "</style>\n",
       "<table border=\"1\" class=\"dataframe\">\n",
       "  <thead>\n",
       "    <tr style=\"text-align: right;\">\n",
       "      <th></th>\n",
       "      <th>accuracy</th>\n",
       "      <th>roc_auc</th>\n",
       "      <th>precision</th>\n",
       "      <th>recall</th>\n",
       "      <th>f1</th>\n",
       "    </tr>\n",
       "  </thead>\n",
       "  <tbody>\n",
       "    <tr>\n",
       "      <th>Evaluation</th>\n",
       "      <td>0.810617</td>\n",
       "      <td>0.73299</td>\n",
       "      <td>0.208379</td>\n",
       "      <td>0.480866</td>\n",
       "      <td>0.29076</td>\n",
       "    </tr>\n",
       "  </tbody>\n",
       "</table>\n",
       "</div>"
      ]
     },
     "execution_count": 10,
     "metadata": {},
     "output_type": "execute_result"
    }
   ],
   "execution_count": 10
  },
  {
   "metadata": {},
   "cell_type": "markdown",
   "source": [
    "**Cross Validation and Early Stopping**<br>\n",
    "*Primary Metric: ROC AUC*<br>\n",
    "The dataset is imbalanced and so it would be important for the model to\n",
    "distinguish between the 2 classes, default or not.\n",
    "<br><br>\n",
    "*Secondary Metric: F1 Score*<br>\n",
    "Provides a balanced view of precision and recall, ensuring\n",
    "that each class is handled reasonably well in terms of both capturing and\n",
    "not over-predicting each class."
   ],
   "id": "7a1bf792d196540b"
  },
  {
   "metadata": {
    "ExecuteTime": {
     "end_time": "2024-12-26T16:42:53.787319Z",
     "start_time": "2024-12-26T16:42:31.266679Z"
    }
   },
   "cell_type": "code",
   "source": [
    "dtrain = xgb.DMatrix(X_train_tf, label=y_train)\n",
    "\n",
    "params = {\n",
    "    'objective': 'binary:logistic',\n",
    "    'eval_metric': 'auc',\n",
    "    'scale_pos_weight': (y_train == 0).sum() / (y_train == 1).sum(),\n",
    "    'random_state': 42\n",
    "}\n",
    "\n",
    "cv_results = xgb.cv(\n",
    "    params=params,\n",
    "    dtrain=dtrain,\n",
    "    num_boost_round=1000,\n",
    "    nfold=5,\n",
    "    early_stopping_rounds=10,\n",
    "    verbose_eval=True,\n",
    "    metrics='auc'\n",
    ")\n",
    "\n",
    "print(f\"Best iteration: {cv_results.shape[0]}\")"
   ],
   "id": "c8f95525ed43084a",
   "outputs": [
    {
     "name": "stdout",
     "output_type": "stream",
     "text": [
      "[0]\ttrain-auc:0.74283+0.00110\ttest-auc:0.70323+0.00617\n",
      "[1]\ttrain-auc:0.76545+0.00142\ttest-auc:0.71641+0.00267\n",
      "[2]\ttrain-auc:0.77912+0.00128\ttest-auc:0.72452+0.00357\n",
      "[3]\ttrain-auc:0.78961+0.00180\ttest-auc:0.72911+0.00293\n",
      "[4]\ttrain-auc:0.79879+0.00178\ttest-auc:0.73161+0.00321\n",
      "[5]\ttrain-auc:0.80749+0.00175\ttest-auc:0.73458+0.00272\n",
      "[6]\ttrain-auc:0.81430+0.00171\ttest-auc:0.73699+0.00293\n",
      "[7]\ttrain-auc:0.82121+0.00144\ttest-auc:0.73913+0.00345\n",
      "[8]\ttrain-auc:0.82814+0.00159\ttest-auc:0.74129+0.00318\n",
      "[9]\ttrain-auc:0.83344+0.00171\ttest-auc:0.74269+0.00331\n",
      "[10]\ttrain-auc:0.83895+0.00155\ttest-auc:0.74361+0.00327\n",
      "[11]\ttrain-auc:0.84416+0.00148\ttest-auc:0.74461+0.00417\n",
      "[12]\ttrain-auc:0.84953+0.00167\ttest-auc:0.74541+0.00357\n",
      "[13]\ttrain-auc:0.85390+0.00182\ttest-auc:0.74575+0.00326\n",
      "[14]\ttrain-auc:0.85809+0.00211\ttest-auc:0.74636+0.00345\n",
      "[15]\ttrain-auc:0.86182+0.00204\ttest-auc:0.74703+0.00324\n",
      "[16]\ttrain-auc:0.86627+0.00197\ttest-auc:0.74743+0.00259\n",
      "[17]\ttrain-auc:0.87043+0.00221\ttest-auc:0.74700+0.00226\n",
      "[18]\ttrain-auc:0.87418+0.00206\ttest-auc:0.74786+0.00277\n",
      "[19]\ttrain-auc:0.87776+0.00251\ttest-auc:0.74771+0.00267\n",
      "[20]\ttrain-auc:0.88083+0.00305\ttest-auc:0.74749+0.00279\n",
      "[21]\ttrain-auc:0.88366+0.00283\ttest-auc:0.74747+0.00283\n",
      "[22]\ttrain-auc:0.88660+0.00220\ttest-auc:0.74787+0.00299\n",
      "[23]\ttrain-auc:0.88943+0.00215\ttest-auc:0.74792+0.00344\n",
      "[24]\ttrain-auc:0.89142+0.00210\ttest-auc:0.74839+0.00351\n",
      "[25]\ttrain-auc:0.89396+0.00230\ttest-auc:0.74846+0.00346\n",
      "[26]\ttrain-auc:0.89701+0.00214\ttest-auc:0.74834+0.00373\n",
      "[27]\ttrain-auc:0.89950+0.00183\ttest-auc:0.74851+0.00418\n",
      "[28]\ttrain-auc:0.90153+0.00171\ttest-auc:0.74865+0.00433\n",
      "[29]\ttrain-auc:0.90372+0.00162\ttest-auc:0.74796+0.00399\n",
      "[30]\ttrain-auc:0.90566+0.00183\ttest-auc:0.74804+0.00412\n",
      "[31]\ttrain-auc:0.90769+0.00208\ttest-auc:0.74723+0.00416\n",
      "[32]\ttrain-auc:0.91033+0.00179\ttest-auc:0.74679+0.00447\n",
      "[33]\ttrain-auc:0.91235+0.00157\ttest-auc:0.74691+0.00439\n",
      "[34]\ttrain-auc:0.91411+0.00150\ttest-auc:0.74672+0.00432\n",
      "[35]\ttrain-auc:0.91522+0.00162\ttest-auc:0.74665+0.00449\n",
      "[36]\ttrain-auc:0.91700+0.00198\ttest-auc:0.74650+0.00445\n",
      "[37]\ttrain-auc:0.91902+0.00242\ttest-auc:0.74644+0.00455\n",
      "[38]\ttrain-auc:0.92095+0.00227\ttest-auc:0.74646+0.00423\n",
      "Best iteration: 29\n"
     ]
    }
   ],
   "execution_count": 11
  },
  {
   "metadata": {},
   "cell_type": "markdown",
   "source": "**Hyperparameter Tuning**",
   "id": "f1da7946d23aaf6a"
  },
  {
   "metadata": {
    "ExecuteTime": {
     "end_time": "2024-12-26T17:42:10.502061Z",
     "start_time": "2024-12-26T17:42:10.491108Z"
    }
   },
   "cell_type": "code",
   "source": [
    "hyperparameters_folder = os.path.join(\"..\", \"hyperparameters\")\n",
    "study_file = os.path.join(hyperparameters_folder, \"optuna_study.pkl\")\n",
    "\n",
    "# Create the folder if it doesn't exist\n",
    "os.makedirs(hyperparameters_folder, exist_ok=True)  # This is the crucial line\n",
    "\n",
    "# Define the objective function (same as before)\n",
    "def objective(trial):\n",
    "    # ... (objective function code remains the same)\n",
    "    params = {\n",
    "        'objective': 'binary:logistic',\n",
    "        'eval_metric': 'auc',\n",
    "        'random_state': 42,\n",
    "        'scale_pos_weight': (y_train == 0).sum() / (y_train == 1).sum(),\n",
    "        'learning_rate': trial.suggest_float('learning_rate', 0.01, 0.3),\n",
    "        'max_depth': trial.suggest_int('max_depth', 3, 20),\n",
    "        'min_child_weight': trial.suggest_float('min_child_weight', 1, 10),\n",
    "        'subsample': trial.suggest_float('subsample', 0.5, 1.0),\n",
    "        'colsample_bytree': trial.suggest_float('colsample_bytree', 0.5, 1.0),\n",
    "        'gamma': trial.suggest_float('gamma', 0, 5)\n",
    "    }\n",
    "\n",
    "    X_sparse = csr_matrix(X_train_tf)\n",
    "    dtrain = xgb.DMatrix(X_sparse, label=y_train)\n",
    "\n",
    "    cv_results = xgb.cv(\n",
    "        params=params,\n",
    "        dtrain=dtrain,\n",
    "        num_boost_round=300,\n",
    "        nfold=3,\n",
    "        early_stopping_rounds=10,\n",
    "        verbose_eval=False\n",
    "    )\n",
    "\n",
    "    return cv_results['test-auc-mean'].max()\n",
    "\n",
    "\n",
    "# Check if the serialized file exists and is valid\n",
    "if os.path.exists(study_file):\n",
    "    try:\n",
    "        with open(study_file, \"rb\") as f:\n",
    "            study = pkl.load(f)\n",
    "        print(f\"Loaded existing study from: {study_file}\")\n",
    "    except (pkl.UnpicklingError, EOFError, FileNotFoundError) as e:\n",
    "        print(f\"Failed to load study from {study_file}: {e}\")\n",
    "        study = None\n",
    "else:\n",
    "    study = None\n",
    "\n",
    "# If no valid study exists, create and optimize a new one\n",
    "if study is None:\n",
    "    print(\"No valid study found. Creating a new study...\")\n",
    "    study = optuna.create_study(direction='maximize')\n",
    "    study.optimize(objective, n_trials=20)\n",
    "\n",
    "    # Save the study to a file\n",
    "    with open(study_file, \"wb\") as f:\n",
    "        pkl.dump(study, f)\n",
    "    print(f\"New study saved to: {study_file}\")\n",
    "\n",
    "# Print the best parameters and score\n",
    "if study:\n",
    "    print(\"Best Parameters:\", study.best_params)\n",
    "    print(\"Best ROC AUC:\", study.best_value)"
   ],
   "id": "5241dbe90b1d6d38",
   "outputs": [
    {
     "name": "stdout",
     "output_type": "stream",
     "text": [
      "Loaded existing study from: ../hyperparameters/optuna_study.pkl\n",
      "Best Parameters: {'learning_rate': 0.10919489120891655, 'max_depth': 3, 'min_child_weight': 6.774516879120494, 'subsample': 0.9863725966320864, 'colsample_bytree': 0.8231311359839003, 'gamma': 2.923728499491975}\n",
      "Best ROC AUC: 0.7715438418989846\n"
     ]
    }
   ],
   "execution_count": 16
  },
  {
   "metadata": {},
   "cell_type": "code",
   "outputs": [],
   "execution_count": null,
   "source": "",
   "id": "f9ecb31c3e09812c"
  }
 ],
 "metadata": {
  "kernelspec": {
   "display_name": "Python 3",
   "language": "python",
   "name": "python3"
  },
  "language_info": {
   "codemirror_mode": {
    "name": "ipython",
    "version": 2
   },
   "file_extension": ".py",
   "mimetype": "text/x-python",
   "name": "python",
   "nbconvert_exporter": "python",
   "pygments_lexer": "ipython2",
   "version": "2.7.6"
  }
 },
 "nbformat": 4,
 "nbformat_minor": 5
}
